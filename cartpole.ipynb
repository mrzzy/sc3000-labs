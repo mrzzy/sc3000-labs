{
  "nbformat": 4,
  "nbformat_minor": 0,
  "metadata": {
    "colab": {
      "provenance": [],
      "include_colab_link": true
    },
    "kernelspec": {
      "name": "python3",
      "display_name": "Python 3"
    },
    "language_info": {
      "name": "python"
    }
  },
  "cells": [
    {
      "cell_type": "markdown",
      "metadata": {
        "id": "view-in-github",
        "colab_type": "text"
      },
      "source": [
        "<a href=\"https://colab.research.google.com/github/mrzzy/sc3000-labs/blob/main/cartpole.ipynb\" target=\"_parent\"><img src=\"https://colab.research.google.com/assets/colab-badge.svg\" alt=\"Open In Colab\"/></a>"
      ]
    },
    {
      "cell_type": "markdown",
      "source": [
        "# SC3001 Lab Assignment 1\n",
        "\n",
        "TODO: talk about our task.\n",
        "\n",
        "TODO: make this more elaborate:\n",
        "Approach: Q Learning (Q-table) on quantised space."
      ],
      "metadata": {
        "id": "ZauhjPSfX7pI"
      }
    },
    {
      "cell_type": "markdown",
      "source": [
        "## Installing dependencies:"
      ],
      "metadata": {
        "id": "UBiYOoesYMvr"
      }
    },
    {
      "cell_type": "code",
      "execution_count": 2,
      "metadata": {
        "colab": {
          "base_uri": "https://localhost:8080/",
          "height": 743
        },
        "id": "PbgnVwZmX5uW",
        "outputId": "a79a2932-0215-4f01-bfdc-672ab03bd035"
      },
      "outputs": [
        {
          "output_type": "stream",
          "name": "stdout",
          "text": [
            "Requirement already satisfied: gym[classic_control] in /usr/local/lib/python3.11/dist-packages (0.25.2)\n",
            "Requirement already satisfied: numpy>=1.18.0 in /usr/local/lib/python3.11/dist-packages (from gym[classic_control]) (1.26.4)\n",
            "Requirement already satisfied: cloudpickle>=1.2.0 in /usr/local/lib/python3.11/dist-packages (from gym[classic_control]) (3.1.1)\n",
            "Requirement already satisfied: gym_notices>=0.0.4 in /usr/local/lib/python3.11/dist-packages (from gym[classic_control]) (0.0.8)\n",
            "Collecting pygame==2.1.0 (from gym[classic_control])\n",
            "  Downloading pygame-2.1.0.tar.gz (5.8 MB)\n",
            "\u001b[2K     \u001b[90m━━━━━━━━━━━━━━━━━━━━━━━━━━━━━━━━━━━━━━━━\u001b[0m \u001b[32m5.8/5.8 MB\u001b[0m \u001b[31m45.5 MB/s\u001b[0m eta \u001b[36m0:00:00\u001b[0m\n",
            "\u001b[?25h  \u001b[1;31merror\u001b[0m: \u001b[1msubprocess-exited-with-error\u001b[0m\n",
            "  \n",
            "  \u001b[31m×\u001b[0m \u001b[32mpython setup.py egg_info\u001b[0m did not run successfully.\n",
            "  \u001b[31m│\u001b[0m exit code: \u001b[1;36m1\u001b[0m\n",
            "  \u001b[31m╰─>\u001b[0m See above for output.\n",
            "  \n",
            "  \u001b[1;35mnote\u001b[0m: This error originates from a subprocess, and is likely not a problem with pip.\n",
            "  Preparing metadata (setup.py) ... \u001b[?25l\u001b[?25herror\n",
            "\u001b[1;31merror\u001b[0m: \u001b[1mmetadata-generation-failed\u001b[0m\n",
            "\n",
            "\u001b[31m×\u001b[0m Encountered error while generating package metadata.\n",
            "\u001b[31m╰─>\u001b[0m See above for output.\n",
            "\n",
            "\u001b[1;35mnote\u001b[0m: This is an issue with the package mentioned above, not pip.\n",
            "\u001b[1;36mhint\u001b[0m: See above for details.\n",
            "Requirement already satisfied: setuptools in /usr/local/lib/python3.11/dist-packages (75.1.0)\n",
            "Collecting setuptools\n",
            "  Downloading setuptools-76.0.0-py3-none-any.whl.metadata (6.7 kB)\n",
            "Downloading setuptools-76.0.0-py3-none-any.whl (1.2 MB)\n",
            "\u001b[2K   \u001b[90m━━━━━━━━━━━━━━━━━━━━━━━━━━━━━━━━━━━━━━━━\u001b[0m \u001b[32m1.2/1.2 MB\u001b[0m \u001b[31m42.7 MB/s\u001b[0m eta \u001b[36m0:00:00\u001b[0m\n",
            "\u001b[?25hInstalling collected packages: setuptools\n",
            "  Attempting uninstall: setuptools\n",
            "    Found existing installation: setuptools 75.1.0\n",
            "    Uninstalling setuptools-75.1.0:\n",
            "      Successfully uninstalled setuptools-75.1.0\n",
            "\u001b[31mERROR: pip's dependency resolver does not currently take into account all the packages that are installed. This behaviour is the source of the following dependency conflicts.\n",
            "ipython 7.34.0 requires jedi>=0.16, which is not installed.\u001b[0m\u001b[31m\n",
            "\u001b[0mSuccessfully installed setuptools-76.0.0\n"
          ]
        },
        {
          "output_type": "display_data",
          "data": {
            "application/vnd.colab-display-data+json": {
              "pip_warning": {
                "packages": [
                  "_distutils_hack"
                ]
              },
              "id": "b5806cfe39ed4ed09525908b25a60f26"
            }
          },
          "metadata": {}
        }
      ],
      "source": [
        "!apt-get install -y xvfb python-opengl > /dev/null 2>&1\n",
        "!pip install gym pyvirtualdisplay > /dev/null 2>&1\n",
        "!pip install gym pyvirtualdisplay > /dev/null 2>&1\n",
        "!apt-get install -y xvfb python-opengl ffmpeg > /dev/null 2>&1\n",
        "!pip install gym[classic_control]\n",
        "!apt-get update > /dev/null 2>&1\n",
        "!apt-get install cmake > /dev/null 2>&1\n",
        "!pip install --upgrade setuptools 2>&1\n",
        "!pip install ez_setup > /dev/null 2>&1\n",
        "!pip install jupyter-black > /dev/null 2>&1"
      ]
    },
    {
      "cell_type": "markdown",
      "source": [
        "## Importing dependencies and define helper functions"
      ],
      "metadata": {
        "id": "RwKbYeTgbaTA"
      }
    },
    {
      "cell_type": "code",
      "source": [
        "import gym\n",
        "from gym import logger as gymlogger\n",
        "from gym.wrappers import RecordVideo\n",
        "gymlogger.set_level(40) #error only\n",
        "import tensorflow as tf\n",
        "import numpy as np\n",
        "import numpy.typing as npt\n",
        "import random\n",
        "import matplotlib\n",
        "import matplotlib.pyplot as plt\n",
        "%matplotlib inline\n",
        "import math\n",
        "import glob\n",
        "import io\n",
        "import base64\n",
        "from IPython.display import HTML\n",
        "from IPython import display as ipythondisplay\n",
        "%load_ext jupyter_black\n",
        "\n",
        "\n",
        "def show_video():\n",
        "  mp4list = glob.glob('video/*.mp4')\n",
        "  if len(mp4list) > 0:\n",
        "    mp4 = mp4list[0]\n",
        "    video = io.open(mp4, 'r+b').read()\n",
        "    encoded = base64.b64encode(video)\n",
        "    ipythondisplay.display(HTML(data='''<video alt=\"test\" autoplay\n",
        "                loop controls style=\"height: 400px;\">\n",
        "                <source src=\"data:video/mp4;base64,{0}\" type=\"video/mp4\" />\n",
        "             </video>'''.format(encoded.decode('ascii'))))\n",
        "  else:\n",
        "    print(\"Could not find video\")"
      ],
      "metadata": {
        "id": "j6KpgCLGYWmj"
      },
      "execution_count": 3,
      "outputs": []
    },
    {
      "cell_type": "code",
      "source": [
        "env = gym.make(\"CartPole-v1\")"
      ],
      "metadata": {
        "id": "Go12dH4qbwBy"
      },
      "execution_count": 4,
      "outputs": []
    },
    {
      "cell_type": "markdown",
      "source": [
        "We can check the action and observation space of this environment. Discrete(2) means that there are two valid discrete actions: 0 & 1."
      ],
      "metadata": {
        "id": "9XZ9g3xrcAXE"
      }
    },
    {
      "cell_type": "code",
      "source": [
        "print(env.action_space)\n",
        "n_actions = env.action_space.n"
      ],
      "metadata": {
        "colab": {
          "base_uri": "https://localhost:8080/"
        },
        "id": "ytxvVmLdcRyw",
        "outputId": "4de6adda-6c0f-41f2-cab5-9b01c3859982"
      },
      "execution_count": 5,
      "outputs": [
        {
          "output_type": "stream",
          "name": "stdout",
          "text": [
            "Discrete(2)\n"
          ]
        }
      ]
    },
    {
      "cell_type": "markdown",
      "source": [
        "The observation space is given below. The first two arrays define the min and max values of the 4 observed values, corresponding to cart position, velocity and pole angle, angular velocity.\n"
      ],
      "metadata": {
        "id": "pVXGWi_Ncfg-"
      }
    },
    {
      "cell_type": "code",
      "source": [
        "print(env.observation_space)"
      ],
      "metadata": {
        "colab": {
          "base_uri": "https://localhost:8080/"
        },
        "id": "DyqHr9I5cdkX",
        "outputId": "f62abdc9-ded6-4a69-bdf7-e28ccd9a6c28"
      },
      "execution_count": 6,
      "outputs": [
        {
          "output_type": "stream",
          "name": "stdout",
          "text": [
            "Box([-4.8000002e+00 -3.4028235e+38 -4.1887903e-01 -3.4028235e+38], [4.8000002e+00 3.4028235e+38 4.1887903e-01 3.4028235e+38], (4,), float32)\n"
          ]
        }
      ]
    },
    {
      "cell_type": "markdown",
      "source": [
        "**Observations**\n",
        "Note that the observation (state) space is continuous and unbounded. This implies\n",
        "a possible infinite number of states that cannot be tabulated in fixed sized\n",
        "Q table.\n"
      ],
      "metadata": {
        "id": "oVjwOKtYdYlg"
      }
    },
    {
      "cell_type": "markdown",
      "source": [
        "We call each round of the pole-balancing game an \"episode\". At the start of each episode, make sure the environment is reset, which chooses a random initial state, e.g., pole slightly tilted to the right. This initialization can be achieved by the code below, which returns the observation of the initial state."
      ],
      "metadata": {
        "id": "HFOdaU2Gdyg0"
      }
    },
    {
      "cell_type": "code",
      "source": [
        "observation = env.reset()\n",
        "print(\"Initial observations:\", observation)"
      ],
      "metadata": {
        "colab": {
          "base_uri": "https://localhost:8080/"
        },
        "id": "VMr6qAqxdOsm",
        "outputId": "d8e6d645-8e7c-4d55-8e16-6bda289ef7e4"
      },
      "execution_count": 7,
      "outputs": [
        {
          "output_type": "stream",
          "name": "stdout",
          "text": [
            "Initial observations: [ 0.04334663 -0.00016673 -0.03834461  0.04658415]\n"
          ]
        }
      ]
    },
    {
      "cell_type": "markdown",
      "source": [
        "For the CartPole environment, there are two possible actions: 0 for pushing to the left and 1 for pushing to the right. For example, we can push the cart to the left using code below, which returns the new observation, the current reward, an indicator of whether the game ends, and some additional information (not used in this project). For CartPole, the game ends when the pole is significantly tilted or you manage to balance the pole for 500 steps. You get exactly 1 reward for each step before the game ends (i.e., max cumulative reward is 500)."
      ],
      "metadata": {
        "id": "qnG2QdfbeZrI"
      }
    },
    {
      "cell_type": "code",
      "source": [
        "observation, reward, done, info = env.step(0)\n",
        "print(\"New observations after choosing action 0:\", observation)\n",
        "print(\"Reward for this step:\", reward)\n",
        "print(\"Is this round done?\", done)"
      ],
      "metadata": {
        "colab": {
          "base_uri": "https://localhost:8080/"
        },
        "id": "MmfMDvyYdWGk",
        "outputId": "e3d5ed0e-6f9f-4dbb-939a-791214441cff"
      },
      "execution_count": 48,
      "outputs": [
        {
          "output_type": "stream",
          "name": "stdout",
          "text": [
            "New observations after choosing action 0: [ 2.2676184  1.5324196 27.626677   8.531592 ]\n",
            "Reward for this step: 0.0\n",
            "Is this round done? True\n"
          ]
        }
      ]
    },
    {
      "cell_type": "markdown",
      "source": [
        "Now we can play a full round of the game using a naive strategy (always choosing action 0), and show the cumulative reward in the round. Note that reward returned by env.step(*) corresponds to the reward for current step. So we have to accumulate the reward for each step. Clearly, the naive strategy performs poorly by surviving only a dozen of steps."
      ],
      "metadata": {
        "id": "tj0zCh59fhBb"
      }
    },
    {
      "cell_type": "code",
      "source": [
        "observation = env.reset()\n",
        "cumulative_reward = 0\n",
        "done = False\n",
        "while not done:\n",
        "    observation, reward, done, info = env.step(0)\n",
        "    cumulative_reward += reward\n",
        "print(\"Cumulative reward for this round:\", cumulative_reward)"
      ],
      "metadata": {
        "colab": {
          "base_uri": "https://localhost:8080/"
        },
        "id": "AVucQVRwf6Jm",
        "outputId": "232a829a-982f-41a1-c8f9-25d8602b9d24"
      },
      "execution_count": 49,
      "outputs": [
        {
          "output_type": "stream",
          "name": "stdout",
          "text": [
            "Cumulative reward for this round: 10.0\n"
          ]
        }
      ]
    },
    {
      "cell_type": "markdown",
      "source": [
        "## Task 1: Development of an RL agent"
      ],
      "metadata": {
        "id": "2oIzK9SzhlWN"
      }
    },
    {
      "cell_type": "markdown",
      "source": [
        "## State Feature Extraction\n",
        "- We also need to set **bounds** on the values sampled from the observation (state) by clipping values within a finite range.\n",
        "  - **Cart Position**: $-4.8 \\leq \\text{value} \\leq 4.8$\n",
        "  - **Cart Velocity**: $-4.8 < \\text{value} < 4.8$\n",
        "  - **Pole Angle**: $-0.418 \\leq \\text{value} \\leq 0.418$\n",
        "  - **Pole Angular Velocity**: $-0.418 \\leq \\text{value} \\leq 0.418$\n",
        "\n",
        "- We need to **discretise** the observation space by binning values into fixed no. of buckets (bins):\n",
        "  - **Cart Position**: 3 bins\n",
        "  - **Cart Velocity**: 3 bins.\n",
        "  - **Pole Angle**: 6 bins\n",
        "  - **Pole Angular Velocity**: 6 bins.\n",
        "\n",
        "- Finally we map each possible observation to a unique \"state ID\"."
      ],
      "metadata": {
        "id": "WHsKgfFGqnW8"
      }
    },
    {
      "cell_type": "code",
      "source": [
        "# state features: cart: position, velocity, pole: angle, angular velocity\n",
        "# no. of bins to create for each feature\n",
        "N_BINS = np.array([3, 3, 6, 6])\n",
        "n_states = N_BINS.prod()\n",
        "print(f\"no. of states: {n_states}\")\n",
        "\n",
        "NPArray = npt.NDArray[np.float64]\n",
        "\n",
        "\n",
        "def extract_state(state: NPArray, n_bins: NPArray = N_BINS) -> int:\n",
        "    # bounds for each feature\n",
        "    bound_min = np.array([-4.8, -4.8, -0.418, -0.418])\n",
        "    bound_max = np.array([4.8, 4.8, 0.418, 0.418])\n",
        "    clipped = np.clip(state, bound_min, bound_max)\n",
        "\n",
        "    # bin values into discrete bins\n",
        "    features = np.zeros_like(state)\n",
        "    for i in range(len(state)):\n",
        "        bins = np.linspace(bound_min[i], bound_max[i], n_bins[i] + 1)\n",
        "        # -1 to ensure bins are 1-indexed\n",
        "        features[i] = np.digitize(clipped[i], bins) - 1\n",
        "\n",
        "    # compute state id using multi dimensional indexing\n",
        "    state_id = 0\n",
        "    for i, feature in enumerate(features):\n",
        "        state_id += int(feature * n_bins[i + 1 :].prod())\n",
        "    return state_id"
      ],
      "metadata": {
        "colab": {
          "base_uri": "https://localhost:8080/"
        },
        "id": "a8DPX_1Fd1ZK",
        "outputId": "eaa2a61b-667a-4386-d349-c6c885d35106"
      },
      "execution_count": 50,
      "outputs": [
        {
          "output_type": "stream",
          "name": "stdout",
          "text": [
            "no. of states: 324\n"
          ]
        }
      ]
    },
    {
      "cell_type": "markdown",
      "source": [
        "## Q Learning\n",
        "Since our $Q(\\text{state}, \\text{action})$ space is small (324 states * 2 actions = 648), we can fit Q-values entirely in memory as a Q-table.\n",
        "\n",
        "We apply the Q learning step to update $Q(\\text{state}, \\text{action})$ values with parameters:\n",
        "- $\\gamma$ Discount factor for future rewards.\n",
        "- $\\alpha$ Learning rate for Q(s,a)-value updates per step.\n",
        "\n",
        "$$\n",
        "Q({\\small state}, {\\small action}) = (1 - \\alpha) Q({\\small state}, {\\small action}) + \\alpha \\Big({\\small reward} + \\gamma \\max_{a} Q({\\small next \\ state}, {\\small all \\ actions})\\Big)\n",
        "$$"
      ],
      "metadata": {
        "id": "05vdJS5Hq4cP"
      }
    },
    {
      "cell_type": "code",
      "source": [
        "def q_learn(\n",
        "    q_table: NPArray,\n",
        "    state: int,\n",
        "    action: int,\n",
        "    reward: float,\n",
        "    next_state: int,\n",
        "    learning_rate: float,\n",
        "    discount_factor: float,\n",
        ") -> NPArray:\n",
        "    \"\"\"\n",
        "    Apply one Q-learning step to update the Q-table.\n",
        "\n",
        "    The function updates the Q-value for a given state-action pair based on the\n",
        "    Q-learning algorithm. It uses the current Q-value, the reward received for\n",
        "    taking the action, and the maximum Q-value of the next state to compute the\n",
        "    updated Q-value.\n",
        "\n",
        "    Args:\n",
        "        q_table (NPArray): The Q-table (a 2D array) where Q-values are stored.\n",
        "        state (int): The index of the current state.\n",
        "        action (int): The index of the action taken.\n",
        "        reward (float): The reward received after taking the action.\n",
        "        next_state (int): The index of the next state.\n",
        "        learning_rate (float, optional): The learning rate for the update (default is 0.5).\n",
        "        discount_factor (float, optional): The discount factor for future rewards (default is 0.999).\n",
        "\n",
        "    Returns:\n",
        "        NPArray: The updated Q-table with the new Q-value for the given state-action pair.\n",
        "\n",
        "    Example:\n",
        "        q_table = q_learn(q_table, state=1, action=2, reward=1.0, next_state=3)\n",
        "    \"\"\"\n",
        "    q_table[state, action] = (1 - learning_rate) * q_table[\n",
        "        state, action\n",
        "    ] + learning_rate * (reward + discount_factor * q_table[next_state].max())\n",
        "    return q_table"
      ],
      "metadata": {
        "id": "xb-2XUvdsk3e"
      },
      "execution_count": 51,
      "outputs": []
    },
    {
      "cell_type": "markdown",
      "source": [
        "## Epilson Greedy\n",
        "Explore /exploit the state space using $\\epsilon$-greedy policy:\n",
        "- **Explore** $\\epsilon$ probability of choosing a random action\n",
        "- **Exploit** otherwise $(1- \\epsilon)$ probablity of choosing the optimal action using the current Q(s,a) values."
      ],
      "metadata": {
        "id": "epdJX6DAwI8x"
      }
    },
    {
      "cell_type": "code",
      "source": [
        "def e_greedy(q_table: NPArray, state: int, explore_rate: float) -> int:\n",
        "    \"\"\"\n",
        "    Determine the next action using the epsilon-greedy policy.\n",
        "\n",
        "    The epsilon-greedy policy selects a random action with probability `explore_rate`\n",
        "    (exploration), and the action with the highest Q-value for the given state with\n",
        "    probability `1 - explore_rate` (exploitation). This is used to balance exploration\n",
        "    of the environment and exploitation of the learned policy.\n",
        "\n",
        "    Args:\n",
        "        q_table (NPArray): The Q-table (a 2D array) containing the Q-values for each state-action pair.\n",
        "        state (int): The index of the current state.\n",
        "        explore_rate (float, optional): The probability of selecting a random action (exploration).\n",
        "                                          Default is 1e-5, meaning very little exploration.\n",
        "    Returns:\n",
        "        int: The index of the chosen action.\n",
        "\n",
        "    Example:\n",
        "        action = e_greedy(q_table, state=1)\n",
        "    \"\"\"\n",
        "    if random.random() <= explore_rate:\n",
        "        # random action\n",
        "        return random.randint(0, 1)\n",
        "    else:\n",
        "        # optimal action based on current q-table values\n",
        "        return q_table[state].argmax()"
      ],
      "metadata": {
        "id": "SlHXyM55w_FM"
      },
      "execution_count": 52,
      "outputs": []
    },
    {
      "cell_type": "markdown",
      "source": [
        "## Q Learning Agent\n",
        "- perform Q-learning step update to Q-values using learning rate $\\alpha$ & discount factor $\\lambda$\n",
        "- selects next action $a$ based on $\\epsilon$-greedy policy."
      ],
      "metadata": {
        "id": "j3CadJ3z6Bdn"
      }
    },
    {
      "cell_type": "code",
      "source": [
        "class QAgent:\n",
        "    def __init__(\n",
        "        self,\n",
        "        learning_rate: float,\n",
        "        explore_rate: float,\n",
        "        discount_factor: float,\n",
        "        n_states: int = n_states,\n",
        "        n_actions: int = n_actions,\n",
        "    ):\n",
        "        self.learning_rate = learning_rate\n",
        "        self.explore_rate = explore_rate\n",
        "        self.discount_factor = discount_factor\n",
        "        self.q_table = np.zeros((n_states, n_actions))\n",
        "\n",
        "    def init_act(self, initial_state: NPArray) -> int:\n",
        "        \"\"\"Return an initial action to perform obsased on initial state\"\"\"\n",
        "        initial_state_i = extract_state(initial_state)\n",
        "        return e_greedy(self.q_table, initial_state_i, self.explore_rate)\n",
        "\n",
        "    def observe_act(\n",
        "        self, state: NPArray, action: int, reward: float, next_state: NPArray\n",
        "    ) -> int:\n",
        "        \"\"\"Observe state-action transition with reward and return a next action.\"\"\"\n",
        "        # perform q-learning update to q values based on observed state-action transition\n",
        "        state_i = extract_state(state)\n",
        "        next_state_i = extract_state(next_state)\n",
        "        self.q_table = q_learn(\n",
        "            self.q_table,\n",
        "            state_i,\n",
        "            action,\n",
        "            reward,\n",
        "            next_state_i,\n",
        "            self.learning_rate,\n",
        "            self.discount_factor,\n",
        "        )\n",
        "        # determine next action based on e-greedy policy\n",
        "        return e_greedy(self.q_table, next_state_i, self.explore_rate)"
      ],
      "metadata": {
        "id": "Feqz9hCv84rb"
      },
      "execution_count": 53,
      "outputs": []
    },
    {
      "cell_type": "markdown",
      "source": [
        "For Task 1, we can show the observation and chosen action below:"
      ],
      "metadata": {
        "id": "RAi7KKwNiegR"
      }
    },
    {
      "cell_type": "code",
      "source": [
        "agent = QAgent(learning_rate=1.0, explore_rate=1.0, discount_factor=3)\n",
        "state = env.reset()\n",
        "action = agent.init_act(state)\n",
        "print(\"Observation:\", state)\n",
        "print(\"Chosen action:\", action)"
      ],
      "metadata": {
        "colab": {
          "base_uri": "https://localhost:8080/"
        },
        "id": "ae2ia-vUiNKJ",
        "outputId": "dd873595-feb7-4a16-baa7-cee715bae47d"
      },
      "execution_count": 54,
      "outputs": [
        {
          "output_type": "stream",
          "name": "stdout",
          "text": [
            "Observation: [ 0.01396954 -0.01010571  0.00573707  0.03728624]\n",
            "Chosen action: 0\n"
          ]
        }
      ]
    },
    {
      "cell_type": "markdown",
      "source": [
        "## Training\n",
        "Train the agent by:\n",
        "- playing **500** episodes.\n",
        "- apply **exponential decay** to learning rate $\\alpha$ & discount factor $\\lambda$."
      ],
      "metadata": {
        "id": "jaOdqtAEIQ8Q"
      }
    },
    {
      "cell_type": "code",
      "source": [
        "def play(\n",
        "    env,\n",
        "    agent: QAgent,\n",
        "):\n",
        "    \"\"\"Play a single episode using the given agent\"\"\"\n",
        "    # determine action based on initial state\n",
        "    state = env.reset()\n",
        "    action = agent.init_act(state)\n",
        "\n",
        "    done = False\n",
        "    total_reward = 0\n",
        "    while not done:\n",
        "        # observe and act based on next state\n",
        "        next_state, reward, done, info = env.step(action)\n",
        "        next_action = agent.observe_act(state, action, reward, next_state)\n",
        "        # accumate rewards from agent\n",
        "        total_reward += reward\n",
        "\n",
        "        action, state = next_action, next_state\n",
        "    return total_reward\n",
        "\n",
        "\n",
        "def train(\n",
        "    env,\n",
        "    agent: QAgent,\n",
        "    n_episodes: int,\n",
        "    explore_decay: float = 0.985,\n",
        "    lr_decay: float = 0.985,\n",
        "    rng_seed: int = 42,\n",
        "):\n",
        "    \"\"\"Train the agent by playing multiple episodes and learning from experience.\"\"\"\n",
        "    # seed random number generators for reproducablity\n",
        "    random.seed(rng_seed)\n",
        "    np.random.seed(rng_seed)\n",
        "    env.seed(rng_seed)\n",
        "\n",
        "    # play n episodes and collect cumulative (total) rewards\n",
        "    total_rewards = []\n",
        "    for i in range(n_episodes):\n",
        "        total_rewards.append(play(env, agent))\n",
        "\n",
        "        # decay learning rate & explore rate\n",
        "        agent.explore_rate *= explore_decay\n",
        "        agent.learning_rate *= lr_decay\n",
        "\n",
        "    # turn off learning & exploration once agent has been trained for evaluation\n",
        "    agent.explore_rate = 0.0\n",
        "    agent.learning_rate = 0.0\n",
        "\n",
        "    return agent, total_rewards\n",
        "\n",
        "\n",
        "# train agent and plot results\n",
        "agent = QAgent(learning_rate=1.0, explore_rate=1.0, discount_factor=0.999)\n",
        "agent, rewards = train(env, agent, n_episodes=500)\n",
        "plt.plot(rewards)\n",
        "plt.title(\"Training: Cumulative reward for each episode\")\n",
        "plt.ylabel(\"Cumulative reward\")\n",
        "plt.xlabel(\"episode\")\n",
        "plt.show()"
      ],
      "metadata": {
        "colab": {
          "base_uri": "https://localhost:8080/",
          "height": 472
        },
        "id": "IxhBUuNHIW5R",
        "outputId": "476905f8-4503-4276-c587-202e27abd2f6"
      },
      "execution_count": 125,
      "outputs": [
        {
          "output_type": "display_data",
          "data": {
            "text/plain": [
              "<Figure size 640x480 with 1 Axes>"
            ],
            "image/png": "[encoded data removed]"
          },
          "metadata": {}
        }
      ]
    },
    {
      "cell_type": "markdown",
      "source": [
        "## Task 2: Demonstrate the effectiveness of the RL agent"
      ],
      "metadata": {
        "id": "-XtIQ0Rti1gm"
      }
    },
    {
      "cell_type": "markdown",
      "source": [
        "For this task, use the agent developed in Task 1 to play the game for 100 episodes (refer to tutorial for how to play a round), record the cumulative reward for each round, and plot the reward for each round. A sample plotting code is given below. Note that you must include code to play for 100 episodes and use the code to obtain round_results for plotting. DO NOT record the round results in advance and paste the results to the notebook."
      ],
      "metadata": {
        "id": "djBEShf0kGI4"
      }
    },
    {
      "cell_type": "code",
      "source": [
        "episode_results = np.array([play(env, agent) for _ in range(100)])\n",
        "\n",
        "plt.plot(episode_results)\n",
        "plt.title(\"Cumulative reward for each episode\")\n",
        "plt.ylabel(\"Cumulative reward\")\n",
        "plt.xlabel(\"episode\")\n",
        "plt.show()"
      ],
      "metadata": {
        "colab": {
          "base_uri": "https://localhost:8080/",
          "height": 472
        },
        "id": "RZrCKywQi6CE",
        "outputId": "099b76f3-3c2e-4a0e-9663-8adb5b5f9d81"
      },
      "execution_count": 131,
      "outputs": [
        {
          "output_type": "display_data",
          "data": {
            "text/plain": [
              "<Figure size 640x480 with 1 Axes>"
            ],
            "image/png": "[encoded data removed]"
          },
          "metadata": {}
        }
      ]
    },
    {
      "cell_type": "markdown",
      "source": [
        "Print the average reward over the 100 episodes."
      ],
      "metadata": {
        "id": "XndSYH7wlvn7"
      }
    },
    {
      "cell_type": "code",
      "source": [
        "print(\"Average cumulative reward:\", episode_results.mean())\n",
        "print(\"Is my agent good enough?\", episode_results.mean() > 195)"
      ],
      "metadata": {
        "colab": {
          "base_uri": "https://localhost:8080/"
        },
        "id": "pOiOp9OYlo5Y",
        "outputId": "d40c286e-121f-4b63-e5c3-45528df1dff4"
      },
      "execution_count": 132,
      "outputs": [
        {
          "output_type": "stream",
          "name": "stdout",
          "text": [
            "Average cumulative reward: 482.7\n",
            "Is my agent good enough? True\n"
          ]
        }
      ]
    },
    {
      "cell_type": "markdown",
      "source": [
        "## Task 3: Render one episode played by the agent"
      ],
      "metadata": {
        "id": "Yg0DCT38lFA6"
      }
    },
    {
      "cell_type": "markdown",
      "source": [
        "Plug your agent to the code below to obtain rendered result."
      ],
      "metadata": {
        "id": "vx1awMr9lc_w"
      }
    },
    {
      "cell_type": "code",
      "source": [
        "env = RecordVideo(gym.make(\"CartPole-v1\"), \"./video\")\n",
        "play(env, agent)\n",
        "env.close()\n",
        "show_video()"
      ],
      "metadata": {
        "colab": {
          "base_uri": "https://localhost:8080/",
          "height": 666
        },
        "id": "LYyavfbIa47D",
        "outputId": "b0391cef-9d42-4c09-d1da-06fd72668c5b"
      },
      "execution_count": 133,
      "outputs": [
        {
          "output_type": "stream",
          "name": "stderr",
          "text": [
            "/usr/local/lib/python3.11/dist-packages/pygame/pkgdata.py:25: DeprecationWarning: pkg_resources is deprecated as an API. See https://setuptools.pypa.io/en/latest/pkg_resources.html\n",
            "  from pkg_resources import resource_stream, resource_exists\n",
            "/usr/local/lib/python3.11/dist-packages/pkg_resources/__init__.py:3147: DeprecationWarning: Deprecated call to `pkg_resources.declare_namespace('google')`.\n",
            "Implementing implicit namespace packages (as specified in PEP 420) is preferred to `pkg_resources.declare_namespace`. See https://setuptools.pypa.io/en/latest/references/keywords.html#keyword-namespace-packages\n",
            "  declare_namespace(pkg)\n",
            "/usr/local/lib/python3.11/dist-packages/pkg_resources/__init__.py:3147: DeprecationWarning: Deprecated call to `pkg_resources.declare_namespace('google.cloud')`.\n",
            "Implementing implicit namespace packages (as specified in PEP 420) is preferred to `pkg_resources.declare_namespace`. See https://setuptools.pypa.io/en/latest/references/keywords.html#keyword-namespace-packages\n",
            "  declare_namespace(pkg)\n",
            "/usr/local/lib/python3.11/dist-packages/pkg_resources/__init__.py:3147: DeprecationWarning: Deprecated call to `pkg_resources.declare_namespace('sphinxcontrib')`.\n",
            "Implementing implicit namespace packages (as specified in PEP 420) is preferred to `pkg_resources.declare_namespace`. See https://setuptools.pypa.io/en/latest/references/keywords.html#keyword-namespace-packages\n",
            "  declare_namespace(pkg)\n",
            "/usr/local/lib/python3.11/dist-packages/gym/utils/passive_env_checker.py:241: DeprecationWarning: `np.bool8` is a deprecated alias for `np.bool_`.  (Deprecated NumPy 1.24)\n",
            "  if not isinstance(terminated, (bool, np.bool8)):\n"
          ]
        },
        {
          "output_type": "display_data",
          "data": {
            "text/plain": [
              "<IPython.core.display.HTML object>"
            ],
            "text/html": [
              "<video alt=\"test\" autoplay \n",
              "                loop controls style=\"height: 400px;\">\n",
              "                <source src=\"data:video/mp4;base64,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\" type=\"video/mp4\" />\n",
              "             </video>"
            ]
          },
          "metadata": {}
        }
      ]
    }
  ]
}