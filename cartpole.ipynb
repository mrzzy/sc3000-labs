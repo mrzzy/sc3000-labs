{
  "cells": [
    {
      "cell_type": "markdown",
      "metadata": {
        "id": "ZauhjPSfX7pI"
      },
      "source": [
        "# SC3001 Lab Assignment 1\n",
        "Team:   \n",
        "Sheng Jia-Qi (U2322805E) - code and explanation  \n",
        "Zhu Wai Shan (U2322877F) - code and explanation  \n",
        "Zhu Zhanyan （U2320496K）- code and explanation\n",
        "\n",
        "This notebook implements a Q learning agent to balance a pole on a moving cart in the CartPole-v1 environment  \n",
        "It follows these steps:\n",
        "\n",
        "1. Set up the environment and dependencies\n",
        "2. Implement Q-learning to train the RL agent\n",
        "3. Tested the RL agent with 100 episodes\n",
        "4. One episode played by the trained RL agent"
      ]
    },
    {
      "cell_type": "markdown",
      "metadata": {
        "id": "UBiYOoesYMvr"
      },
      "source": [
        "## Installing dependencies:"
      ]
    },
    {
      "cell_type": "code",
      "execution_count": 1,
      "metadata": {
        "colab": {
          "base_uri": "https://localhost:8080/"
        },
        "id": "PbgnVwZmX5uW",
        "outputId": "5010d1ef-ad5a-4847-e69e-547334af3075"
      },
      "outputs": [
        {
          "output_type": "stream",
          "name": "stdout",
          "text": [
            "Requirement already satisfied: gym[classic_control] in /usr/local/lib/python3.11/dist-packages (0.25.2)\n",
            "Requirement already satisfied: numpy>=1.18.0 in /usr/local/lib/python3.11/dist-packages (from gym[classic_control]) (1.26.4)\n",
            "Requirement already satisfied: cloudpickle>=1.2.0 in /usr/local/lib/python3.11/dist-packages (from gym[classic_control]) (3.1.1)\n",
            "Requirement already satisfied: gym_notices>=0.0.4 in /usr/local/lib/python3.11/dist-packages (from gym[classic_control]) (0.0.8)\n",
            "Collecting pygame==2.1.0 (from gym[classic_control])\n",
            "  Using cached pygame-2.1.0.tar.gz (5.8 MB)\n",
            "  \u001b[1;31merror\u001b[0m: \u001b[1msubprocess-exited-with-error\u001b[0m\n",
            "  \n",
            "  \u001b[31m×\u001b[0m \u001b[32mpython setup.py egg_info\u001b[0m did not run successfully.\n",
            "  \u001b[31m│\u001b[0m exit code: \u001b[1;36m1\u001b[0m\n",
            "  \u001b[31m╰─>\u001b[0m See above for output.\n",
            "  \n",
            "  \u001b[1;35mnote\u001b[0m: This error originates from a subprocess, and is likely not a problem with pip.\n",
            "  Preparing metadata (setup.py) ... \u001b[?25l\u001b[?25herror\n",
            "\u001b[1;31merror\u001b[0m: \u001b[1mmetadata-generation-failed\u001b[0m\n",
            "\n",
            "\u001b[31m×\u001b[0m Encountered error while generating package metadata.\n",
            "\u001b[31m╰─>\u001b[0m See above for output.\n",
            "\n",
            "\u001b[1;35mnote\u001b[0m: This is an issue with the package mentioned above, not pip.\n",
            "\u001b[1;36mhint\u001b[0m: See above for details.\n",
            "Requirement already satisfied: setuptools in /usr/local/lib/python3.11/dist-packages (77.0.1)\n",
            "Requirement already satisfied: numpy==1.26.4 in /usr/local/lib/python3.11/dist-packages (1.26.4)\n"
          ]
        }
      ],
      "source": [
        "!apt-get install -y xvfb python-opengl > /dev/null 2>&1\n",
        "!pip install gym pyvirtualdisplay > /dev/null 2>&1\n",
        "!apt-get install -y xvfb python-opengl ffmpeg > /dev/null 2>&1\n",
        "!pip install gym[classic_control]\n",
        "!apt-get update > /dev/null 2>&1\n",
        "!pip install --upgrade setuptools 2>&1\n",
        "!pip install ez_setup > /dev/null 2>&1\n",
        "!pip install jupyter-black > /dev/null 2>&1\n",
        "# downgrade numpy < 2.0 to resolve np.bool8 missing issue with gym cartpole env\n",
        "%pip install numpy==1.26.4"
      ]
    },
    {
      "cell_type": "markdown",
      "metadata": {
        "id": "RwKbYeTgbaTA"
      },
      "source": [
        "## Importing dependencies and define helper functions"
      ]
    },
    {
      "cell_type": "code",
      "execution_count": 2,
      "metadata": {
        "id": "j6KpgCLGYWmj"
      },
      "outputs": [],
      "source": [
        "import gym\n",
        "from gym import logger as gymlogger\n",
        "from gym.wrappers import RecordVideo\n",
        "\n",
        "gymlogger.set_level(40)  # error only\n",
        "import numpy as np\n",
        "import numpy.typing as npt\n",
        "import random\n",
        "import matplotlib\n",
        "import matplotlib.pyplot as plt\n",
        "\n",
        "%matplotlib inline\n",
        "import math\n",
        "import glob\n",
        "import io\n",
        "import base64\n",
        "from IPython.display import HTML\n",
        "from IPython import display as ipythondisplay\n",
        "\n",
        "%load_ext jupyter_black\n",
        "\n",
        "\n",
        "def show_video():\n",
        "    mp4list = glob.glob(\"video/*.mp4\")\n",
        "    if len(mp4list) > 0:\n",
        "        mp4 = mp4list[0]\n",
        "        video = io.open(mp4, \"r+b\").read()\n",
        "        encoded = base64.b64encode(video)\n",
        "        ipythondisplay.display(\n",
        "            HTML(\n",
        "                data=\"\"\"<video alt=\"test\" autoplay\n",
        "                loop controls style=\"height: 400px;\">\n",
        "                <source src=\"data:video/mp4;base64,{0}\" type=\"video/mp4\" />\n",
        "             </video>\"\"\".format(\n",
        "                    encoded.decode(\"ascii\")\n",
        "                )\n",
        "            )\n",
        "        )\n",
        "    else:\n",
        "        print(\"Could not find video\")"
      ]
    },
    {
      "cell_type": "code",
      "execution_count": 3,
      "metadata": {
        "id": "Go12dH4qbwBy"
      },
      "outputs": [],
      "source": [
        "env = gym.make(\"CartPole-v1\")"
      ]
    },
    {
      "cell_type": "markdown",
      "metadata": {
        "id": "9XZ9g3xrcAXE"
      },
      "source": [
        "We can check the action and observation space of this environment. Discrete(2) means that there are two valid discrete actions: 0 & 1."
      ]
    },
    {
      "cell_type": "code",
      "execution_count": 4,
      "metadata": {
        "colab": {
          "base_uri": "https://localhost:8080/"
        },
        "id": "ytxvVmLdcRyw",
        "outputId": "0236f1ba-d5fb-4140-bc24-d43325ef4a7f"
      },
      "outputs": [
        {
          "output_type": "stream",
          "name": "stdout",
          "text": [
            "Discrete(2)\n"
          ]
        }
      ],
      "source": [
        "print(env.action_space)\n",
        "n_actions = env.action_space.n"
      ]
    },
    {
      "cell_type": "markdown",
      "metadata": {
        "id": "pVXGWi_Ncfg-"
      },
      "source": [
        "The observation space is given below. The first two arrays define the min and max values of the 4 observed values, corresponding to cart position, velocity and pole angle, angular velocity.\n"
      ]
    },
    {
      "cell_type": "code",
      "execution_count": 5,
      "metadata": {
        "colab": {
          "base_uri": "https://localhost:8080/"
        },
        "id": "DyqHr9I5cdkX",
        "outputId": "cbe40d55-4245-44d1-d6ba-7662dc3f0d60"
      },
      "outputs": [
        {
          "output_type": "stream",
          "name": "stdout",
          "text": [
            "Box([-4.8000002e+00 -3.4028235e+38 -4.1887903e-01 -3.4028235e+38], [4.8000002e+00 3.4028235e+38 4.1887903e-01 3.4028235e+38], (4,), float32)\n"
          ]
        }
      ],
      "source": [
        "print(env.observation_space)"
      ]
    },
    {
      "cell_type": "markdown",
      "metadata": {
        "id": "oVjwOKtYdYlg"
      },
      "source": [
        "**Observations**\n",
        "Note that the observation (state) space is continuous and unbounded. This implies\n",
        "a possible infinite number of states that cannot be tabulated in fixed sized\n",
        "Q table.\n",
        "Hence there is a need to discretise and bound the set of possible states such\n",
        "that Q learning is can completing within a reasonable runtime.\n"
      ]
    },
    {
      "cell_type": "markdown",
      "metadata": {
        "id": "HFOdaU2Gdyg0"
      },
      "source": [
        "We call each round of the pole-balancing game an \"episode\". At the start of each episode, make sure the environment is reset, which chooses a random initial state, e.g., pole slightly tilted to the right. This initialization can be achieved by the code below, which returns the observation of the initial state."
      ]
    },
    {
      "cell_type": "code",
      "execution_count": 6,
      "metadata": {
        "colab": {
          "base_uri": "https://localhost:8080/"
        },
        "id": "VMr6qAqxdOsm",
        "outputId": "c7784856-a2a4-461e-aeac-4ecd19a7d360"
      },
      "outputs": [
        {
          "output_type": "stream",
          "name": "stdout",
          "text": [
            "Initial observations: [-0.00191152  0.04817796  0.01779479 -0.04232343]\n"
          ]
        }
      ],
      "source": [
        "observation = env.reset()\n",
        "print(\"Initial observations:\", observation)"
      ]
    },
    {
      "cell_type": "markdown",
      "metadata": {
        "id": "qnG2QdfbeZrI"
      },
      "source": [
        "For the CartPole environment, there are two possible actions: 0 for pushing to the left and 1 for pushing to the right. For example, we can push the cart to the left using code below, which returns the new observation, the current reward, an indicator of whether the game ends, and some additional information (not used in this project). For CartPole, the game ends when the pole is significantly tilted or you manage to balance the pole for 500 steps. You get exactly 1 reward for each step before the game ends (i.e., max cumulative reward is 500)."
      ]
    },
    {
      "cell_type": "code",
      "execution_count": 7,
      "metadata": {
        "colab": {
          "base_uri": "https://localhost:8080/"
        },
        "id": "MmfMDvyYdWGk",
        "outputId": "57052e71-0097-4a12-afb6-16e3bf25a350"
      },
      "outputs": [
        {
          "output_type": "stream",
          "name": "stdout",
          "text": [
            "New observations after choosing action 0: [-0.00094796 -0.14719458  0.01694832  0.25592038]\n",
            "Reward for this step: 1.0\n",
            "Is this round done? False\n"
          ]
        },
        {
          "output_type": "stream",
          "name": "stderr",
          "text": [
            "/usr/local/lib/python3.11/dist-packages/gym/utils/passive_env_checker.py:241: DeprecationWarning: `np.bool8` is a deprecated alias for `np.bool_`.  (Deprecated NumPy 1.24)\n",
            "  if not isinstance(terminated, (bool, np.bool8)):\n"
          ]
        }
      ],
      "source": [
        "observation, reward, done, info = env.step(0)\n",
        "print(\"New observations after choosing action 0:\", observation)\n",
        "print(\"Reward for this step:\", reward)\n",
        "print(\"Is this round done?\", done)"
      ]
    },
    {
      "cell_type": "markdown",
      "metadata": {
        "id": "tj0zCh59fhBb"
      },
      "source": [
        "Now we can play a full round of the game using a naive strategy (always choosing action 0), and show the cumulative reward in the round. Note that reward returned by env.step(*) corresponds to the reward for current step. So we have to accumulate the reward for each step. Clearly, the naive strategy performs poorly by surviving only a dozen of steps."
      ]
    },
    {
      "cell_type": "code",
      "execution_count": 8,
      "metadata": {
        "colab": {
          "base_uri": "https://localhost:8080/"
        },
        "id": "AVucQVRwf6Jm",
        "outputId": "9da415fa-975b-4d71-9348-8532a2f19cb7"
      },
      "outputs": [
        {
          "output_type": "stream",
          "name": "stdout",
          "text": [
            "Cumulative reward for this round: 10.0\n"
          ]
        }
      ],
      "source": [
        "observation = env.reset()\n",
        "cumulative_reward = 0\n",
        "done = False\n",
        "while not done:\n",
        "    observation, reward, done, info = env.step(0)\n",
        "    cumulative_reward += reward\n",
        "print(\"Cumulative reward for this round:\", cumulative_reward)"
      ]
    },
    {
      "cell_type": "markdown",
      "metadata": {
        "id": "2oIzK9SzhlWN"
      },
      "source": [
        "## Task 1: Development of an RL agent"
      ]
    },
    {
      "cell_type": "markdown",
      "metadata": {
        "id": "WHsKgfFGqnW8"
      },
      "source": [
        "## State Feature Extraction\n",
        "- We also need to set **bounds** on the values sampled from the observation (state) by clipping values within a finite range.\n",
        "  - **Cart Position**: $-4.8 \\leq \\text{value} \\leq 4.8$\n",
        "  - **Cart Velocity**: $-4.8 < \\text{value} < 4.8$\n",
        "  - **Pole Angle**: $-0.418 \\leq \\text{value} \\leq 0.418$\n",
        "  - **Pole Angular Velocity**: $-0.418 \\leq \\text{value} \\leq 0.418$\n",
        "\n",
        "- We need to **discretise & bound** the observation space by binning values into fixed no. of buckets (bins) using the binning method described in a MATLAB implementation of the same problem [^1]:\n",
        "  - **Cart Position**: 3 bins\n",
        "  - **Cart Velocity**: 3 bins.\n",
        "  - **Pole Angle**: 6 bins\n",
        "  - **Pole Angular Velocity**: 6 bins.\n",
        "\n",
        "  This allows the agent to focus on patterns formed by the different categories instead of dealing with infinite numbers which allows for easier decision-making and faster speed of learning.\n",
        "\n",
        "\n",
        "- Finally we map each possible observation to a unique \"state ID\".\n",
        "[^1]: https://pages.cs.wisc.edu/~finton/qcontroller.html"
      ]
    },
    {
      "cell_type": "code",
      "execution_count": 9,
      "metadata": {
        "colab": {
          "base_uri": "https://localhost:8080/"
        },
        "id": "a8DPX_1Fd1ZK",
        "outputId": "3af6d3d0-ec12-43d2-c447-7cf0789baed9"
      },
      "outputs": [
        {
          "output_type": "stream",
          "name": "stdout",
          "text": [
            "no. of states: 324\n"
          ]
        }
      ],
      "source": [
        "# state features: cart: position, velocity, pole: angle, angular velocity\n",
        "# no. of bins to create for each feature\n",
        "N_BINS = np.array([3, 3, 6, 6])\n",
        "n_states = N_BINS.prod()\n",
        "print(f\"no. of states: {n_states}\")\n",
        "\n",
        "NPArray = npt.NDArray[np.float64]\n",
        "\n",
        "\n",
        "def extract_state(state: NPArray, n_bins: NPArray = N_BINS) -> int:\n",
        "    # bounds for each feature\n",
        "    bound_min = np.array([-4.8, -4.8, -0.418, -0.418])\n",
        "    bound_max = np.array([4.8, 4.8, 0.418, 0.418])\n",
        "    clipped = np.clip(state, bound_min, bound_max)\n",
        "\n",
        "    # bin values into discrete bins\n",
        "    features = np.zeros_like(state)\n",
        "    for i in range(len(state)):\n",
        "        bins = np.linspace(bound_min[i], bound_max[i], n_bins[i] + 1)\n",
        "        # -1 to ensure bins are 1-indexed\n",
        "        features[i] = np.digitize(clipped[i], bins) - 1\n",
        "\n",
        "    # compute state id using multi dimensional indexing\n",
        "    state_id = 0\n",
        "    for i, feature in enumerate(features):\n",
        "        state_id += int(feature * n_bins[i + 1 :].prod())\n",
        "    return state_id"
      ]
    },
    {
      "cell_type": "markdown",
      "metadata": {
        "id": "05vdJS5Hq4cP"
      },
      "source": [
        "## Q Learning\n",
        "Since our $Q(\\text{state}, \\text{action})$ space is small (324 states * 2 actions = 648), we can fit Q-values entirely in memory as a Q-table.\n",
        "\n",
        "We apply the Q learning step to update $Q(\\text{state}, \\text{action})$ values with parameters:\n",
        "- $\\gamma$ : Discount factor for future rewards.\n",
        "- $\\alpha$ : Learning rate for Q(s,a)-value updates per step.\n",
        "\n",
        "$$\n",
        "Q({\\small state}, {\\small action}) = (1 - \\alpha) Q({\\small state}, {\\small action}) + \\alpha \\Big({\\small reward} + \\gamma \\max_{a} Q({\\small next \\ state}, {\\small all \\ actions})\\Big)\n",
        "$$"
      ]
    },
    {
      "cell_type": "code",
      "execution_count": 10,
      "metadata": {
        "id": "xb-2XUvdsk3e"
      },
      "outputs": [],
      "source": [
        "def q_learn(\n",
        "    q_table: NPArray,\n",
        "    state: int,\n",
        "    action: int,\n",
        "    reward: float,\n",
        "    next_state: int,\n",
        "    learning_rate: float,\n",
        "    discount_factor: float,\n",
        ") -> NPArray:\n",
        "    \"\"\"\n",
        "    Apply one Q-learning step to update the Q-table.\n",
        "\n",
        "    The function updates the Q-value for a given state-action pair based on the\n",
        "    Q-learning algorithm. It uses the current Q-value, the reward received for\n",
        "    taking the action, and the maximum Q-value of the next state to compute the\n",
        "    updated Q-value.\n",
        "\n",
        "    Args:\n",
        "        q_table (NPArray): The Q-table (a 2D array) where Q-values are stored.\n",
        "        state (int): The index of the current state.\n",
        "        action (int): The index of the action taken.\n",
        "        reward (float): The reward received after taking the action.\n",
        "        next_state (int): The index of the next state.\n",
        "        learning_rate (float, optional): The learning rate for the update (default is 0.5).\n",
        "        discount_factor (float, optional): The discount factor for future rewards (default is 0.999).\n",
        "\n",
        "    Returns:\n",
        "        NPArray: The updated Q-table with the new Q-value for the given state-action pair.\n",
        "\n",
        "    Example:\n",
        "        q_table = q_learn(q_table, state=1, action=2, reward=1.0, next_state=3)\n",
        "    \"\"\"\n",
        "    q_table[state, action] = (1 - learning_rate) * q_table[\n",
        "        state, action\n",
        "    ] + learning_rate * (reward + discount_factor * q_table[next_state].max())\n",
        "    return q_table"
      ]
    },
    {
      "cell_type": "markdown",
      "metadata": {
        "id": "epdJX6DAwI8x"
      },
      "source": [
        "## Epsilon Greedy\n",
        "Explore /exploit the state space using $\\epsilon$-greedy policy:\n",
        "- **Explore** : $\\epsilon$ probability of choosing a random action\n",
        "- **Exploit** : otherwise $(1- \\epsilon)$ probablity of choosing the optimal action using the current Q(s,a) values.\n",
        "\n",
        "This is to prevent premature convergence on suboptimal solutions by encouraging exploration and also helps the agent discover optimal actions through a balance between exploring new possibilities and exploiting the known best options."
      ]
    },
    {
      "cell_type": "code",
      "execution_count": 11,
      "metadata": {
        "id": "SlHXyM55w_FM"
      },
      "outputs": [],
      "source": [
        "def e_greedy(q_table: NPArray, state: int, explore_rate: float) -> int:\n",
        "    \"\"\"\n",
        "    Determine the next action using the epsilon-greedy policy.\n",
        "\n",
        "    The epsilon-greedy policy selects a random action with probability `explore_rate`\n",
        "    (exploration), and the action with the highest Q-value for the given state with\n",
        "    probability `1 - explore_rate` (exploitation). This is used to balance exploration\n",
        "    of the environment and exploitation of the learned policy.\n",
        "\n",
        "    Args:\n",
        "        q_table (NPArray): The Q-table (a 2D array) containing the Q-values for each state-action pair.\n",
        "        state (int): The index of the current state.\n",
        "        explore_rate (float, optional): The probability of selecting a random action (exploration).\n",
        "                                          Default is 1e-5, meaning very little exploration.\n",
        "    Returns:\n",
        "        int: The index of the chosen action.\n",
        "\n",
        "    Example:\n",
        "        action = e_greedy(q_table, state=1)\n",
        "    \"\"\"\n",
        "    if random.random() <= explore_rate:\n",
        "        # random action\n",
        "        return random.randint(0, 1)\n",
        "    else:\n",
        "        # optimal action with the highest Q value based on current Q-table values\n",
        "        return q_table[state].argmax()"
      ]
    },
    {
      "cell_type": "markdown",
      "metadata": {
        "id": "j3CadJ3z6Bdn"
      },
      "source": [
        "## Q Learning Agent\n",
        "- perform Q-learning step update to Q-values using learning rate $\\alpha$ & discount factor $\\lambda$\n",
        "- selects next action $a$ based on $\\epsilon$-greedy policy."
      ]
    },
    {
      "cell_type": "code",
      "execution_count": 12,
      "metadata": {
        "id": "Feqz9hCv84rb"
      },
      "outputs": [],
      "source": [
        "class QAgent:\n",
        "    def __init__(\n",
        "        self,\n",
        "        learning_rate: float,\n",
        "        explore_rate: float,\n",
        "        discount_factor: float,\n",
        "        n_states: int = n_states,\n",
        "        n_actions: int = n_actions,\n",
        "    ):\n",
        "        self.learning_rate = learning_rate\n",
        "        self.explore_rate = explore_rate\n",
        "        self.discount_factor = discount_factor\n",
        "        # Q-table initialised with zeroes because agent knows nothing yet\n",
        "        self.q_table = np.zeros((n_states, n_actions))\n",
        "\n",
        "    def init_act(self, initial_state: NPArray) -> int:\n",
        "        \"\"\"Return an initial action to perform obsased on initial state\"\"\"\n",
        "        initial_state_i = extract_state(initial_state)\n",
        "        return e_greedy(self.q_table, initial_state_i, self.explore_rate)\n",
        "\n",
        "    def observe_act(\n",
        "        self, state: NPArray, action: int, reward: float, next_state: NPArray\n",
        "    ) -> int:\n",
        "        \"\"\"Observe state-action transition with reward and return a next action.\"\"\"\n",
        "        # perform q-learning update to q values based on observed state-action transition\n",
        "        state_i = extract_state(state)\n",
        "        next_state_i = extract_state(next_state)\n",
        "        # update the Q-table\n",
        "        self.q_table = q_learn(\n",
        "            self.q_table,\n",
        "            state_i,\n",
        "            action,\n",
        "            reward,\n",
        "            next_state_i,\n",
        "            self.learning_rate,\n",
        "            self.discount_factor,\n",
        "        )\n",
        "        # determine next action based on e-greedy policy\n",
        "        return e_greedy(self.q_table, next_state_i, self.explore_rate)"
      ]
    },
    {
      "cell_type": "markdown",
      "metadata": {
        "id": "RAi7KKwNiegR"
      },
      "source": [
        "For Task 1, we can show the observation and chosen action below:"
      ]
    },
    {
      "cell_type": "code",
      "execution_count": 13,
      "metadata": {
        "colab": {
          "base_uri": "https://localhost:8080/"
        },
        "id": "ae2ia-vUiNKJ",
        "outputId": "2ecbb7ad-a469-4b49-92b3-8021192a21b7"
      },
      "outputs": [
        {
          "output_type": "stream",
          "name": "stdout",
          "text": [
            "Observation: [-0.02781991 -0.01574657  0.0254351  -0.02356673]\n",
            "Chosen action: 0\n"
          ]
        }
      ],
      "source": [
        "agent = QAgent(learning_rate=1.0, explore_rate=1.0, discount_factor=3)\n",
        "state = env.reset()\n",
        "action = agent.init_act(state)\n",
        "print(\"Observation:\", state)\n",
        "print(\"Chosen action:\", action)"
      ]
    },
    {
      "cell_type": "markdown",
      "metadata": {
        "id": "jaOdqtAEIQ8Q"
      },
      "source": [
        "## Training\n",
        "Train the agent by:\n",
        "- playing **500** episodes.\n",
        "- apply **exponential decay** to learning rate $\\alpha$ & discount factor $\\lambda$ so that the model shifts from exploration to exploitation over time."
      ]
    },
    {
      "cell_type": "code",
      "execution_count": 18,
      "metadata": {
        "colab": {
          "base_uri": "https://localhost:8080/",
          "height": 646
        },
        "id": "IxhBUuNHIW5R",
        "outputId": "1f263ecd-b604-4716-aaae-d59ecc944466"
      },
      "outputs": [
        {
          "output_type": "stream",
          "name": "stdout",
          "text": [
            "Episode 0/500: Avg Reward (last 100) = 12.00\n",
            "Episode 50/500: Avg Reward (last 100) = 27.00\n",
            "Episode 100/500: Avg Reward (last 100) = 37.68\n",
            "Episode 150/500: Avg Reward (last 100) = 47.79\n",
            "Episode 200/500: Avg Reward (last 100) = 79.19\n",
            "Episode 250/500: Avg Reward (last 100) = 92.57\n",
            "Episode 300/500: Avg Reward (last 100) = 178.57\n",
            "Episode 350/500: Avg Reward (last 100) = 386.70\n",
            "Episode 400/500: Avg Reward (last 100) = 489.99\n",
            "Episode 450/500: Avg Reward (last 100) = 485.56\n"
          ]
        },
        {
          "output_type": "display_data",
          "data": {
            "text/plain": [
              "<Figure size 640x480 with 1 Axes>"
            ],
            "image/png": "[encoded data removed]"
          },
          "metadata": {}
        }
      ],
      "source": [
        "def play(\n",
        "    env,\n",
        "    agent: QAgent,\n",
        "):\n",
        "    \"\"\"Play a single episode using the given agent\"\"\"\n",
        "    # determine action based on initial state\n",
        "    state = env.reset()\n",
        "    action = agent.init_act(state)\n",
        "\n",
        "    done = False\n",
        "    total_reward = 0\n",
        "    while not done:\n",
        "        # observe and act based on next state\n",
        "        next_state, reward, done, info = env.step(action)\n",
        "        next_action = agent.observe_act(state, action, reward, next_state)\n",
        "        # accumate rewards from agent\n",
        "        total_reward += reward\n",
        "\n",
        "        action, state = next_action, next_state\n",
        "    return total_reward\n",
        "\n",
        "\n",
        "def train(\n",
        "    env,\n",
        "    agent: QAgent,\n",
        "    n_episodes: int = 500,\n",
        "    explore_decay: float = 0.985,\n",
        "    lr_decay: float = 0.99,\n",
        "    min_explore: float = 0.005,  # Prevents explore_rate from reaching 0 too quickly\n",
        "    min_lr: float = 0.01,  # Prevents learning rate from becoming too small\n",
        "    early_stop_threshold: int = 100,  # Stop if avg reward over last 50 episodes is stable\n",
        "    rng_seed=None,  # Allows flexibility (None means no fixed seed)\n",
        "):\n",
        "    \"\"\"Train the agent by playing multiple episodes and learning from experience.\"\"\"\n",
        "    # seed random number generators for reproducablity\n",
        "    if rng_seed is not None:\n",
        "        random.seed(rng_seed)\n",
        "        np.random.seed(rng_seed)\n",
        "        env.seed(rng_seed)\n",
        "\n",
        "    # play n episodes and collect cumulative (total) rewards\n",
        "    total_rewards = []\n",
        "    best_avg_reward = -float(\"inf\")\n",
        "    consecutive_no_improve = 0\n",
        "\n",
        "    for i in range(n_episodes):\n",
        "        total_rewards.append(play(env, agent))\n",
        "\n",
        "        # Adjust exploration rate and learning rate dynamically\n",
        "        agent.explore_rate = max(agent.explore_rate * explore_decay, min_explore)\n",
        "        agent.learning_rate = max(agent.learning_rate * lr_decay, min_lr)\n",
        "\n",
        "        # Progress tracking every 10% of training\n",
        "        if i % (n_episodes // 10) == 0:\n",
        "            avg_reward = np.mean(total_rewards[-early_stop_threshold:])\n",
        "            print(\n",
        "                f\"Episode {i}/{n_episodes}: Avg Reward (last {early_stop_threshold}) = {avg_reward:.2f}\"\n",
        "            )\n",
        "\n",
        "            # Early stopping condition\n",
        "            if avg_reward > best_avg_reward:\n",
        "                best_avg_reward = avg_reward\n",
        "                consecutive_no_improve = 0  # Reset counter\n",
        "            else:\n",
        "                consecutive_no_improve += 1\n",
        "\n",
        "            if consecutive_no_improve >= early_stop_threshold:\n",
        "                print(\"Early stopping triggered.\")\n",
        "                break\n",
        "\n",
        "    # turn off learning & exploration once agent has been trained for evaluation\n",
        "    agent.explore_rate = 0.0\n",
        "    agent.learning_rate = 0.0\n",
        "\n",
        "    return agent, total_rewards\n",
        "\n",
        "\n",
        "# train agent and plot results\n",
        "agent = QAgent(learning_rate=1.0, explore_rate=1.0, discount_factor=0.999)\n",
        "agent, rewards = train(env, agent, n_episodes=500)\n",
        "plt.plot(rewards)\n",
        "plt.title(\"Training: Cumulative reward for each episode\")\n",
        "plt.ylabel(\"Cumulative reward\")\n",
        "plt.xlabel(\"episode\")\n",
        "plt.show()"
      ]
    },
    {
      "cell_type": "markdown",
      "metadata": {
        "id": "-XtIQ0Rti1gm"
      },
      "source": [
        "## Task 2: Demonstrate the effectiveness of the RL agent"
      ]
    },
    {
      "cell_type": "markdown",
      "metadata": {
        "id": "djBEShf0kGI4"
      },
      "source": [
        "For this task, use the agent developed in Task 1 to play the game for 100 episodes (refer to tutorial for how to play a round), record the cumulative reward for each round, and plot the reward for each round. A sample plotting code is given below. Note that you must include code to play for 100 episodes and use the code to obtain round_results for plotting. DO NOT record the round results in advance and paste the results to the notebook."
      ]
    },
    {
      "cell_type": "code",
      "execution_count": 19,
      "metadata": {
        "colab": {
          "base_uri": "https://localhost:8080/",
          "height": 472
        },
        "id": "RZrCKywQi6CE",
        "outputId": "ecc178d5-5d60-4c46-ef26-d5b4aa57d161"
      },
      "outputs": [
        {
          "output_type": "display_data",
          "data": {
            "text/plain": [
              "<Figure size 640x480 with 1 Axes>"
            ],
            "image/png": "[encoded data removed]"
          },
          "metadata": {}
        }
      ],
      "source": [
        "episode_results = np.array([play(env, agent) for _ in range(100)])\n",
        "\n",
        "plt.plot(episode_results)\n",
        "plt.title(\"Cumulative reward for each episode\")\n",
        "plt.ylabel(\"Cumulative reward\")\n",
        "plt.xlabel(\"episode\")\n",
        "plt.show()"
      ]
    },
    {
      "cell_type": "markdown",
      "metadata": {
        "id": "XndSYH7wlvn7"
      },
      "source": [
        "Print the average reward over the 100 episodes."
      ]
    },
    {
      "cell_type": "code",
      "execution_count": 20,
      "metadata": {
        "colab": {
          "base_uri": "https://localhost:8080/"
        },
        "id": "pOiOp9OYlo5Y",
        "outputId": "21a859f7-118e-4187-fe40-701c69d66f81"
      },
      "outputs": [
        {
          "output_type": "stream",
          "name": "stdout",
          "text": [
            "Average cumulative reward: 481.25\n",
            "Is my agent good enough? True\n"
          ]
        }
      ],
      "source": [
        "print(\"Average cumulative reward:\", episode_results.mean())\n",
        "print(\"Is my agent good enough?\", episode_results.mean() > 195)"
      ]
    },
    {
      "cell_type": "markdown",
      "metadata": {
        "id": "UexbnEOqk6ES"
      },
      "source": []
    },
    {
      "cell_type": "markdown",
      "metadata": {
        "id": "Yg0DCT38lFA6"
      },
      "source": [
        "## Task 3: Render one episode played by the agent"
      ]
    },
    {
      "cell_type": "markdown",
      "metadata": {
        "id": "vx1awMr9lc_w"
      },
      "source": [
        "Plug your agent to the code below to obtain rendered result."
      ]
    },
    {
      "cell_type": "code",
      "execution_count": 21,
      "metadata": {
        "colab": {
          "base_uri": "https://localhost:8080/",
          "height": 456
        },
        "id": "LYyavfbIa47D",
        "outputId": "a6206ed5-6c39-4f0c-c0d9-6b8a8067b8e4"
      },
      "outputs": [
        {
          "output_type": "stream",
          "name": "stderr",
          "text": [
            "/usr/local/lib/python3.11/dist-packages/gym/utils/passive_env_checker.py:241: DeprecationWarning: `np.bool8` is a deprecated alias for `np.bool_`.  (Deprecated NumPy 1.24)\n",
            "  if not isinstance(terminated, (bool, np.bool8)):\n"
          ]
        },
        {
          "output_type": "display_data",
          "data": {
            "text/plain": [
              "<IPython.core.display.HTML object>"
            ],
            "text/html": [
              "<video alt=\"test\" autoplay\n",
              "                loop controls style=\"height: 400px;\">\n",
              "                <source src=\"data:video/mp4;base64,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\" type=\"video/mp4\" />\n",
              "             </video>"
            ]
          },
          "metadata": {}
        }
      ],
      "source": [
        "env = RecordVideo(gym.make(\"CartPole-v1\"), \"./video\")\n",
        "play(env, agent)\n",
        "env.close()\n",
        "show_video()"
      ]
    },
    {
      "cell_type": "markdown",
      "metadata": {
        "id": "kVe4TlQVXSXX"
      },
      "source": [
        "Our agent was able to balace the pole on the cart using only 2 legal actions (moving left or moving right)"
      ]
    },
    {
      "cell_type": "markdown",
      "source": [
        "# References\n",
        "References consulted in the implementation of this notebook:\n",
        "\n",
        "[1]: Chan, M. (2016, November 15). Cart-Pole Balancing with Q-Learning. Medium. https://medium.com/@tuzzer/cart-pole-balancing-with-q-learning-b54c6068d947\n",
        "\n",
        "[2]: Q-Learning Controller for the Cart-Pole Problem. (n.d.). Retrieved March 20, 2025, from https://pages.cs.wisc.edu/~finton/qcontroller.html"
      ],
      "metadata": {
        "id": "ij5G5q-FZZQn"
      }
    }
  ],
  "metadata": {
    "colab": {
      "provenance": []
    },
    "kernelspec": {
      "display_name": "Python 3",
      "name": "python3"
    },
    "language_info": {
      "name": "python"
    }
  },
  "nbformat": 4,
  "nbformat_minor": 0
}