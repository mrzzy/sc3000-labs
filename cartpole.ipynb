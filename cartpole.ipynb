{
  "nbformat": 4,
  "nbformat_minor": 0,
  "metadata": {
    "colab": {
      "provenance": []
    },
    "kernelspec": {
      "name": "python3",
      "display_name": "Python 3"
    },
    "language_info": {
      "name": "python"
    }
  },
  "cells": [
    {
      "cell_type": "markdown",
      "source": [
        "# SC3001 Lab Assignment 1\n",
        "\n",
        "TODO: talk about our task.\n",
        "\n",
        "TODO: make this more elaborate:\n",
        "Approach: Q Learning (Q-table) on quantised space."
      ],
      "metadata": {
        "id": "ZauhjPSfX7pI"
      }
    },
    {
      "cell_type": "markdown",
      "source": [
        "## Installing dependencies:"
      ],
      "metadata": {
        "id": "UBiYOoesYMvr"
      }
    },
    {
      "cell_type": "code",
      "execution_count": 1,
      "metadata": {
        "colab": {
          "base_uri": "https://localhost:8080/"
        },
        "id": "PbgnVwZmX5uW",
        "outputId": "753c6dc3-6eea-4ec3-971d-1b624c9dfbef"
      },
      "outputs": [
        {
          "output_type": "stream",
          "name": "stdout",
          "text": [
            "Requirement already satisfied: gym[classic_control] in /usr/local/lib/python3.11/dist-packages (0.25.2)\n",
            "Requirement already satisfied: numpy>=1.18.0 in /usr/local/lib/python3.11/dist-packages (from gym[classic_control]) (1.26.4)\n",
            "Requirement already satisfied: cloudpickle>=1.2.0 in /usr/local/lib/python3.11/dist-packages (from gym[classic_control]) (3.1.1)\n",
            "Requirement already satisfied: gym_notices>=0.0.4 in /usr/local/lib/python3.11/dist-packages (from gym[classic_control]) (0.0.8)\n",
            "Collecting pygame==2.1.0 (from gym[classic_control])\n",
            "  Using cached pygame-2.1.0.tar.gz (5.8 MB)\n",
            "  \u001b[1;31merror\u001b[0m: \u001b[1msubprocess-exited-with-error\u001b[0m\n",
            "  \n",
            "  \u001b[31m×\u001b[0m \u001b[32mpython setup.py egg_info\u001b[0m did not run successfully.\n",
            "  \u001b[31m│\u001b[0m exit code: \u001b[1;36m1\u001b[0m\n",
            "  \u001b[31m╰─>\u001b[0m See above for output.\n",
            "  \n",
            "  \u001b[1;35mnote\u001b[0m: This error originates from a subprocess, and is likely not a problem with pip.\n",
            "  Preparing metadata (setup.py) ... \u001b[?25l\u001b[?25herror\n",
            "\u001b[1;31merror\u001b[0m: \u001b[1mmetadata-generation-failed\u001b[0m\n",
            "\n",
            "\u001b[31m×\u001b[0m Encountered error while generating package metadata.\n",
            "\u001b[31m╰─>\u001b[0m See above for output.\n",
            "\n",
            "\u001b[1;35mnote\u001b[0m: This is an issue with the package mentioned above, not pip.\n",
            "\u001b[1;36mhint\u001b[0m: See above for details.\n",
            "Requirement already satisfied: setuptools in /usr/local/lib/python3.11/dist-packages (76.0.0)\n"
          ]
        }
      ],
      "source": [
        "!apt-get install -y xvfb python-opengl > /dev/null 2>&1\n",
        "!pip install gym pyvirtualdisplay > /dev/null 2>&1\n",
        "!pip install gym pyvirtualdisplay > /dev/null 2>&1\n",
        "!apt-get install -y xvfb python-opengl ffmpeg > /dev/null 2>&1\n",
        "!pip install gym[classic_control]\n",
        "!apt-get update > /dev/null 2>&1\n",
        "!apt-get install cmake > /dev/null 2>&1\n",
        "!pip install --upgrade setuptools 2>&1\n",
        "!pip install ez_setup > /dev/null 2>&1\n",
        "!pip install jupyter-black > /dev/null 2>&1"
      ]
    },
    {
      "cell_type": "markdown",
      "source": [
        "## Importing dependencies and define helper functions"
      ],
      "metadata": {
        "id": "RwKbYeTgbaTA"
      }
    },
    {
      "cell_type": "code",
      "source": [
        "import gym\n",
        "from gym import logger as gymlogger\n",
        "from gym.wrappers import RecordVideo\n",
        "gymlogger.set_level(40) #error only\n",
        "import tensorflow as tf\n",
        "import numpy as np\n",
        "import numpy.typing as npt\n",
        "import random\n",
        "import matplotlib\n",
        "import matplotlib.pyplot as plt\n",
        "%matplotlib inline\n",
        "import math\n",
        "import glob\n",
        "import io\n",
        "import base64\n",
        "from IPython.display import HTML\n",
        "from IPython import display as ipythondisplay\n",
        "%load_ext jupyter_black\n",
        "\n",
        "\n",
        "def show_video():\n",
        "  mp4list = glob.glob('video/*.mp4')\n",
        "  if len(mp4list) > 0:\n",
        "    mp4 = mp4list[0]\n",
        "    video = io.open(mp4, 'r+b').read()\n",
        "    encoded = base64.b64encode(video)\n",
        "    ipythondisplay.display(HTML(data='''<video alt=\"test\" autoplay\n",
        "                loop controls style=\"height: 400px;\">\n",
        "                <source src=\"data:video/mp4;base64,{0}\" type=\"video/mp4\" />\n",
        "             </video>'''.format(encoded.decode('ascii'))))\n",
        "  else:\n",
        "    print(\"Could not find video\")"
      ],
      "metadata": {
        "id": "j6KpgCLGYWmj"
      },
      "execution_count": 2,
      "outputs": []
    },
    {
      "cell_type": "code",
      "source": [
        "env = gym.make(\"CartPole-v1\")"
      ],
      "metadata": {
        "id": "Go12dH4qbwBy"
      },
      "execution_count": 3,
      "outputs": []
    },
    {
      "cell_type": "markdown",
      "source": [
        "We can check the action and observation space of this environment. Discrete(2) means that there are two valid discrete actions: 0 & 1."
      ],
      "metadata": {
        "id": "9XZ9g3xrcAXE"
      }
    },
    {
      "cell_type": "code",
      "source": [
        "print(env.action_space)\n",
        "n_actions = env.action_space.n"
      ],
      "metadata": {
        "colab": {
          "base_uri": "https://localhost:8080/"
        },
        "id": "ytxvVmLdcRyw",
        "outputId": "d51a049b-2519-45bb-9207-df6d27206cb9"
      },
      "execution_count": 4,
      "outputs": [
        {
          "output_type": "stream",
          "name": "stdout",
          "text": [
            "Discrete(2)\n"
          ]
        }
      ]
    },
    {
      "cell_type": "markdown",
      "source": [
        "The observation space is given below. The first two arrays define the min and max values of the 4 observed values, corresponding to cart position, velocity and pole angle, angular velocity.\n"
      ],
      "metadata": {
        "id": "pVXGWi_Ncfg-"
      }
    },
    {
      "cell_type": "code",
      "source": [
        "print(env.observation_space)"
      ],
      "metadata": {
        "colab": {
          "base_uri": "https://localhost:8080/"
        },
        "id": "DyqHr9I5cdkX",
        "outputId": "262652c8-131a-4728-d3e5-0b015e1a5210"
      },
      "execution_count": 5,
      "outputs": [
        {
          "output_type": "stream",
          "name": "stdout",
          "text": [
            "Box([-4.8000002e+00 -3.4028235e+38 -4.1887903e-01 -3.4028235e+38], [4.8000002e+00 3.4028235e+38 4.1887903e-01 3.4028235e+38], (4,), float32)\n"
          ]
        }
      ]
    },
    {
      "cell_type": "markdown",
      "source": [
        "**Observations**\n",
        "Note that the observation (state) space is continuous and unbounded. This implies\n",
        "a possible infinite number of states that cannot be tabulated in fixed sized\n",
        "Q table.\n"
      ],
      "metadata": {
        "id": "oVjwOKtYdYlg"
      }
    },
    {
      "cell_type": "markdown",
      "source": [
        "We call each round of the pole-balancing game an \"episode\". At the start of each episode, make sure the environment is reset, which chooses a random initial state, e.g., pole slightly tilted to the right. This initialization can be achieved by the code below, which returns the observation of the initial state."
      ],
      "metadata": {
        "id": "HFOdaU2Gdyg0"
      }
    },
    {
      "cell_type": "code",
      "source": [
        "observation = env.reset()\n",
        "print(\"Initial observations:\", observation)"
      ],
      "metadata": {
        "colab": {
          "base_uri": "https://localhost:8080/"
        },
        "id": "VMr6qAqxdOsm",
        "outputId": "1b564b4e-f3df-477e-a17b-60f552d86c0f"
      },
      "execution_count": 6,
      "outputs": [
        {
          "output_type": "stream",
          "name": "stdout",
          "text": [
            "Initial observations: [-0.03099569 -0.00713703 -0.02320563  0.02471734]\n"
          ]
        }
      ]
    },
    {
      "cell_type": "markdown",
      "source": [
        "For the CartPole environment, there are two possible actions: 0 for pushing to the left and 1 for pushing to the right. For example, we can push the cart to the left using code below, which returns the new observation, the current reward, an indicator of whether the game ends, and some additional information (not used in this project). For CartPole, the game ends when the pole is significantly tilted or you manage to balance the pole for 500 steps. You get exactly 1 reward for each step before the game ends (i.e., max cumulative reward is 500)."
      ],
      "metadata": {
        "id": "qnG2QdfbeZrI"
      }
    },
    {
      "cell_type": "code",
      "source": [
        "observation, reward, done, info = env.step(0)\n",
        "print(\"New observations after choosing action 0:\", observation)\n",
        "print(\"Reward for this step:\", reward)\n",
        "print(\"Is this round done?\", done)"
      ],
      "metadata": {
        "colab": {
          "base_uri": "https://localhost:8080/"
        },
        "id": "MmfMDvyYdWGk",
        "outputId": "3d4ec54d-0f38-49fb-82fa-d68dfd1368dd"
      },
      "execution_count": 7,
      "outputs": [
        {
          "output_type": "stream",
          "name": "stdout",
          "text": [
            "New observations after choosing action 0: [-0.03113843 -0.20191865 -0.02271128  0.30998924]\n",
            "Reward for this step: 1.0\n",
            "Is this round done? False\n"
          ]
        },
        {
          "output_type": "stream",
          "name": "stderr",
          "text": [
            "/usr/local/lib/python3.11/dist-packages/gym/utils/passive_env_checker.py:241: DeprecationWarning: `np.bool8` is a deprecated alias for `np.bool_`.  (Deprecated NumPy 1.24)\n",
            "  if not isinstance(terminated, (bool, np.bool8)):\n"
          ]
        }
      ]
    },
    {
      "cell_type": "markdown",
      "source": [
        "Now we can play a full round of the game using a naive strategy (always choosing action 0), and show the cumulative reward in the round. Note that reward returned by env.step(*) corresponds to the reward for current step. So we have to accumulate the reward for each step. Clearly, the naive strategy performs poorly by surviving only a dozen of steps."
      ],
      "metadata": {
        "id": "tj0zCh59fhBb"
      }
    },
    {
      "cell_type": "code",
      "source": [
        "observation = env.reset()\n",
        "cumulative_reward = 0\n",
        "done = False\n",
        "while not done:\n",
        "    observation, reward, done, info = env.step(0)\n",
        "    cumulative_reward += reward\n",
        "print(\"Cumulative reward for this round:\", cumulative_reward)"
      ],
      "metadata": {
        "colab": {
          "base_uri": "https://localhost:8080/"
        },
        "id": "AVucQVRwf6Jm",
        "outputId": "dabb072d-261f-427b-a05f-c9e5f0436e21"
      },
      "execution_count": 8,
      "outputs": [
        {
          "output_type": "stream",
          "name": "stdout",
          "text": [
            "Cumulative reward for this round: 8.0\n"
          ]
        }
      ]
    },
    {
      "cell_type": "markdown",
      "source": [
        "## Task 1: Development of an RL agent"
      ],
      "metadata": {
        "id": "2oIzK9SzhlWN"
      }
    },
    {
      "cell_type": "markdown",
      "source": [
        "## State Feature Extraction\n",
        "- We also need to set **bounds** on the values sampled from the observation (state) by clipping values within a finite range.\n",
        "  - **Cart Position**: $-4.8 \\leq \\text{value} \\leq 4.8$\n",
        "  - **Cart Velocity**: $-4.8 < \\text{value} < 4.8$\n",
        "  - **Pole Angle**: $-0.418 \\leq \\text{value} \\leq 0.418$\n",
        "  - **Pole Angular Velocity**: $-0.418 \\leq \\text{value} \\leq 0.418$\n",
        "\n",
        "- We need to **discretise** the observation space by binning values into fixed no. of buckets (bins):\n",
        "  - **Cart Position**: 3 bins\n",
        "  - **Cart Velocity**: 3 bins.\n",
        "  - **Pole Angle**: 6 bins\n",
        "  - **Pole Angular Velocity**: 6 bins.\n",
        "\n",
        "  This allows the agent to focus on patterns formed by the different categories instead of dealing with infinite numbers which allows for easier decision-making and faster speed of learning.\n",
        "\n",
        "\n",
        "- Finally we map each possible observation to a unique \"state ID\"."
      ],
      "metadata": {
        "id": "WHsKgfFGqnW8"
      }
    },
    {
      "cell_type": "code",
      "source": [
        "# state features: cart: position, velocity, pole: angle, angular velocity\n",
        "# no. of bins to create for each feature\n",
        "N_BINS = np.array([3, 3, 6, 6])\n",
        "n_states = N_BINS.prod()\n",
        "print(f\"no. of states: {n_states}\")\n",
        "\n",
        "NPArray = npt.NDArray[np.float64]\n",
        "\n",
        "\n",
        "def extract_state(state: NPArray, n_bins: NPArray = N_BINS) -> int:\n",
        "    # bounds for each feature\n",
        "    bound_min = np.array([-4.8, -4.8, -0.418, -0.418])\n",
        "    bound_max = np.array([4.8, 4.8, 0.418, 0.418])\n",
        "    clipped = np.clip(state, bound_min, bound_max)\n",
        "\n",
        "    # bin values into discrete bins\n",
        "    features = np.zeros_like(state)\n",
        "    for i in range(len(state)):\n",
        "        bins = np.linspace(bound_min[i], bound_max[i], n_bins[i] + 1)\n",
        "        # -1 to ensure bins are 1-indexed\n",
        "        features[i] = np.digitize(clipped[i], bins) - 1\n",
        "\n",
        "    # compute state id using multi dimensional indexing\n",
        "    state_id = 0\n",
        "    for i, feature in enumerate(features):\n",
        "        state_id += int(feature * n_bins[i + 1 :].prod())\n",
        "    return state_id"
      ],
      "metadata": {
        "colab": {
          "base_uri": "https://localhost:8080/"
        },
        "id": "a8DPX_1Fd1ZK",
        "outputId": "3b505dae-b220-49da-e202-35766a3efa3b"
      },
      "execution_count": 9,
      "outputs": [
        {
          "output_type": "stream",
          "name": "stdout",
          "text": [
            "no. of states: 324\n"
          ]
        }
      ]
    },
    {
      "cell_type": "markdown",
      "source": [
        "## Q Learning\n",
        "Since our $Q(\\text{state}, \\text{action})$ space is small (324 states * 2 actions = 648), we can fit Q-values entirely in memory as a Q-table.\n",
        "\n",
        "We apply the Q learning step to update $Q(\\text{state}, \\text{action})$ values with parameters:\n",
        "- $\\gamma$ : Discount factor for future rewards.\n",
        "- $\\alpha$ : Learning rate for Q(s,a)-value updates per step.\n",
        "\n",
        "$$\n",
        "Q({\\small state}, {\\small action}) = (1 - \\alpha) Q({\\small state}, {\\small action}) + \\alpha \\Big({\\small reward} + \\gamma \\max_{a} Q({\\small next \\ state}, {\\small all \\ actions})\\Big)\n",
        "$$"
      ],
      "metadata": {
        "id": "05vdJS5Hq4cP"
      }
    },
    {
      "cell_type": "code",
      "source": [
        "def q_learn(\n",
        "    q_table: NPArray,\n",
        "    state: int,\n",
        "    action: int,\n",
        "    reward: float,\n",
        "    next_state: int,\n",
        "    learning_rate: float,\n",
        "    discount_factor: float,\n",
        ") -> NPArray:\n",
        "    \"\"\"\n",
        "    Apply one Q-learning step to update the Q-table.\n",
        "\n",
        "    The function updates the Q-value for a given state-action pair based on the\n",
        "    Q-learning algorithm. It uses the current Q-value, the reward received for\n",
        "    taking the action, and the maximum Q-value of the next state to compute the\n",
        "    updated Q-value.\n",
        "\n",
        "    Args:\n",
        "        q_table (NPArray): The Q-table (a 2D array) where Q-values are stored.\n",
        "        state (int): The index of the current state.\n",
        "        action (int): The index of the action taken.\n",
        "        reward (float): The reward received after taking the action.\n",
        "        next_state (int): The index of the next state.\n",
        "        learning_rate (float, optional): The learning rate for the update (default is 0.5).\n",
        "        discount_factor (float, optional): The discount factor for future rewards (default is 0.999).\n",
        "\n",
        "    Returns:\n",
        "        NPArray: The updated Q-table with the new Q-value for the given state-action pair.\n",
        "\n",
        "    Example:\n",
        "        q_table = q_learn(q_table, state=1, action=2, reward=1.0, next_state=3)\n",
        "    \"\"\"\n",
        "    q_table[state, action] = (1 - learning_rate) * q_table[\n",
        "        state, action\n",
        "    ] + learning_rate * (reward + discount_factor * q_table[next_state].max())\n",
        "    return q_table"
      ],
      "metadata": {
        "id": "xb-2XUvdsk3e"
      },
      "execution_count": 10,
      "outputs": []
    },
    {
      "cell_type": "markdown",
      "source": [
        "## Epilson Greedy\n",
        "Explore /exploit the state space using $\\epsilon$-greedy policy:\n",
        "- **Explore** : $\\epsilon$ probability of choosing a random action\n",
        "- **Exploit** : otherwise $(1- \\epsilon)$ probablity of choosing the optimal action using the current Q(s,a) values.\n",
        "\n",
        "This is to prevent premature convergence on suboptimal solutions by encouraging exploration and also helps the agent discover optimal actions through a balance between exploring new possibilities and exploiting the known best options."
      ],
      "metadata": {
        "id": "epdJX6DAwI8x"
      }
    },
    {
      "cell_type": "code",
      "source": [
        "def e_greedy(q_table: NPArray, state: int, explore_rate: float) -> int:\n",
        "    \"\"\"\n",
        "    Determine the next action using the epsilon-greedy policy.\n",
        "\n",
        "    The epsilon-greedy policy selects a random action with probability `explore_rate`\n",
        "    (exploration), and the action with the highest Q-value for the given state with\n",
        "    probability `1 - explore_rate` (exploitation). This is used to balance exploration\n",
        "    of the environment and exploitation of the learned policy.\n",
        "\n",
        "    Args:\n",
        "        q_table (NPArray): The Q-table (a 2D array) containing the Q-values for each state-action pair.\n",
        "        state (int): The index of the current state.\n",
        "        explore_rate (float, optional): The probability of selecting a random action (exploration).\n",
        "                                          Default is 1e-5, meaning very little exploration.\n",
        "    Returns:\n",
        "        int: The index of the chosen action.\n",
        "\n",
        "    Example:\n",
        "        action = e_greedy(q_table, state=1)\n",
        "    \"\"\"\n",
        "    if random.random() <= explore_rate:\n",
        "        # random action\n",
        "        return random.randint(0, 1)\n",
        "    else:\n",
        "        # optimal action with the highest Q value based on current Q-table values\n",
        "        return q_table[state].argmax()"
      ],
      "metadata": {
        "id": "SlHXyM55w_FM"
      },
      "execution_count": 11,
      "outputs": []
    },
    {
      "cell_type": "markdown",
      "source": [
        "## Q Learning Agent\n",
        "- perform Q-learning step update to Q-values using learning rate $\\alpha$ & discount factor $\\lambda$\n",
        "- selects next action $a$ based on $\\epsilon$-greedy policy."
      ],
      "metadata": {
        "id": "j3CadJ3z6Bdn"
      }
    },
    {
      "cell_type": "code",
      "source": [
        "class QAgent:\n",
        "    def __init__(\n",
        "        self,\n",
        "        learning_rate: float,\n",
        "        explore_rate: float,\n",
        "        discount_factor: float,\n",
        "        n_states: int = n_states,\n",
        "        n_actions: int = n_actions,\n",
        "    ):\n",
        "        self.learning_rate = learning_rate\n",
        "        self.explore_rate = explore_rate\n",
        "        self.discount_factor = discount_factor\n",
        "        # Q-table initialised with zeroes because agent knows nothing yet\n",
        "        self.q_table = np.zeros((n_states, n_actions))\n",
        "\n",
        "    def init_act(self, initial_state: NPArray) -> int:\n",
        "        \"\"\"Return an initial action to perform obsased on initial state\"\"\"\n",
        "        initial_state_i = extract_state(initial_state)\n",
        "        return e_greedy(self.q_table, initial_state_i, self.explore_rate)\n",
        "\n",
        "    def observe_act(\n",
        "        self, state: NPArray, action: int, reward: float, next_state: NPArray\n",
        "    ) -> int:\n",
        "        \"\"\"Observe state-action transition with reward and return a next action.\"\"\"\n",
        "        # perform q-learning update to q values based on observed state-action transition\n",
        "        state_i = extract_state(state)\n",
        "        next_state_i = extract_state(next_state)\n",
        "        # update the Q-table\n",
        "        self.q_table = q_learn(\n",
        "            self.q_table,\n",
        "            state_i,\n",
        "            action,\n",
        "            reward,\n",
        "            next_state_i,\n",
        "            self.learning_rate,\n",
        "            self.discount_factor,\n",
        "        )\n",
        "        # determine next action based on e-greedy policy\n",
        "        return e_greedy(self.q_table, next_state_i, self.explore_rate)"
      ],
      "metadata": {
        "id": "Feqz9hCv84rb"
      },
      "execution_count": 13,
      "outputs": []
    },
    {
      "cell_type": "markdown",
      "source": [
        "For Task 1, we can show the observation and chosen action below:"
      ],
      "metadata": {
        "id": "RAi7KKwNiegR"
      }
    },
    {
      "cell_type": "code",
      "source": [
        "agent = QAgent(learning_rate=1.0, explore_rate=1.0, discount_factor=3)\n",
        "state = env.reset()\n",
        "action = agent.init_act(state)\n",
        "print(\"Observation:\", state)\n",
        "print(\"Chosen action:\", action)"
      ],
      "metadata": {
        "colab": {
          "base_uri": "https://localhost:8080/"
        },
        "id": "ae2ia-vUiNKJ",
        "outputId": "537e69b8-0f2d-4453-c835-a43adcdcc47d"
      },
      "execution_count": 14,
      "outputs": [
        {
          "output_type": "stream",
          "name": "stdout",
          "text": [
            "Observation: [ 0.01817819 -0.0468053   0.0053307  -0.03963682]\n",
            "Chosen action: 1\n"
          ]
        }
      ]
    },
    {
      "cell_type": "markdown",
      "source": [
        "## Training\n",
        "Train the agent by:\n",
        "- playing **500** episodes.\n",
        "- apply **exponential decay** to learning rate $\\alpha$ & discount factor $\\lambda$."
      ],
      "metadata": {
        "id": "jaOdqtAEIQ8Q"
      }
    },
    {
      "cell_type": "code",
      "source": [
        "def play(\n",
        "    env,\n",
        "    agent: QAgent,\n",
        "):\n",
        "    \"\"\"Play a single episode using the given agent\"\"\"\n",
        "    # determine action based on initial state\n",
        "    state = env.reset()\n",
        "    action = agent.init_act(state)\n",
        "\n",
        "    done = False\n",
        "    total_reward = 0\n",
        "    while not done:\n",
        "        # observe and act based on next state\n",
        "        next_state, reward, done, info = env.step(action)\n",
        "        next_action = agent.observe_act(state, action, reward, next_state)\n",
        "        # accumate rewards from agent\n",
        "        total_reward += reward\n",
        "\n",
        "        action, state = next_action, next_state\n",
        "    return total_reward\n",
        "\n",
        "\n",
        "def train(\n",
        "    env,\n",
        "    agent: QAgent,\n",
        "    n_episodes: 500,\n",
        "    explore_decay: float = 0.985,\n",
        "    lr_decay: float = 0.99,\n",
        "    min_explore: float = 0.005,  # Prevents explore_rate from reaching 0 too quickly\n",
        "    min_lr: float = 0.01,  # Prevents learning rate from becoming too small\n",
        "    early_stop_threshold: int = 100,  # Stop if avg reward over last 50 episodes is stable\n",
        "    rng_seed=None,  # Allows flexibility (None means no fixed seed)\n",
        "):\n",
        "    \"\"\"Train the agent by playing multiple episodes and learning from experience.\"\"\"\n",
        "    # seed random number generators for reproducablity\n",
        "    if rng_seed is not None:\n",
        "        random.seed(rng_seed)\n",
        "        np.random.seed(rng_seed)\n",
        "        env.seed(rng_seed)\n",
        "\n",
        "    # play n episodes and collect cumulative (total) rewards\n",
        "    total_rewards = []\n",
        "    best_avg_reward = -float(\"inf\")\n",
        "    consecutive_no_improve = 0\n",
        "\n",
        "    for i in range(n_episodes):\n",
        "        total_rewards.append(play(env, agent))\n",
        "\n",
        "        # Adjust exploration rate and learning rate dynamically\n",
        "        agent.explore_rate = max(agent.explore_rate * explore_decay, min_explore)\n",
        "        agent.learning_rate = max(agent.learning_rate * lr_decay, min_lr)\n",
        "\n",
        "        # Progress tracking every 10% of training\n",
        "        if i % (n_episodes // 10) == 0:\n",
        "            avg_reward = np.mean(total_rewards[-early_stop_threshold:])\n",
        "            print(\n",
        "                f\"Episode {i}/{n_episodes}: Avg Reward (last {early_stop_threshold}) = {avg_reward:.2f}\"\n",
        "            )\n",
        "\n",
        "            # Early stopping condition\n",
        "            if avg_reward > best_avg_reward:\n",
        "                best_avg_reward = avg_reward\n",
        "                consecutive_no_improve = 0  # Reset counter\n",
        "            else:\n",
        "                consecutive_no_improve += 1\n",
        "\n",
        "            if consecutive_no_improve >= early_stop_threshold:\n",
        "                print(\"Early stopping triggered.\")\n",
        "                break\n",
        "\n",
        "    # turn off learning & exploration once agent has been trained for evaluation\n",
        "    agent.explore_rate = 0.0\n",
        "    agent.learning_rate = 0.0\n",
        "\n",
        "    return agent, total_rewards\n",
        "\n",
        "\n",
        "# train agent and plot results\n",
        "agent = QAgent(learning_rate=1.0, explore_rate=1.0, discount_factor=0.999)\n",
        "agent, rewards = train(env, agent, n_episodes=500)\n",
        "plt.plot(rewards)\n",
        "plt.title(\"Training: Cumulative reward for each episode\")\n",
        "plt.ylabel(\"Cumulative reward\")\n",
        "plt.xlabel(\"episode\")\n",
        "plt.show()"
      ],
      "metadata": {
        "colab": {
          "base_uri": "https://localhost:8080/",
          "height": 651
        },
        "id": "IxhBUuNHIW5R",
        "outputId": "f630eb9f-789e-4dbb-c37e-2f217f460d12"
      },
      "execution_count": 68,
      "outputs": [
        {
          "output_type": "stream",
          "name": "stdout",
          "text": [
            "Episode 0/500: Avg Reward (last 100) = 26.00\n",
            "Episode 50/500: Avg Reward (last 100) = 24.67\n",
            "Episode 100/500: Avg Reward (last 100) = 34.22\n",
            "Episode 150/500: Avg Reward (last 100) = 65.75\n",
            "Episode 200/500: Avg Reward (last 100) = 102.18\n",
            "Episode 250/500: Avg Reward (last 100) = 248.36\n",
            "Episode 300/500: Avg Reward (last 100) = 437.24\n",
            "Episode 350/500: Avg Reward (last 100) = 490.09\n",
            "Episode 400/500: Avg Reward (last 100) = 490.84\n",
            "Episode 450/500: Avg Reward (last 100) = 493.66\n"
          ]
        },
        {
          "output_type": "display_data",
          "data": {
            "text/plain": [
              "<Figure size 640x480 with 1 Axes>"
            ],
            "image/png": "[encoded data removed]"
          },
          "metadata": {}
        }
      ]
    },
    {
      "cell_type": "markdown",
      "source": [
        "## Task 2: Demonstrate the effectiveness of the RL agent"
      ],
      "metadata": {
        "id": "-XtIQ0Rti1gm"
      }
    },
    {
      "cell_type": "markdown",
      "source": [
        "For this task, use the agent developed in Task 1 to play the game for 100 episodes (refer to tutorial for how to play a round), record the cumulative reward for each round, and plot the reward for each round. A sample plotting code is given below. Note that you must include code to play for 100 episodes and use the code to obtain round_results for plotting. DO NOT record the round results in advance and paste the results to the notebook."
      ],
      "metadata": {
        "id": "djBEShf0kGI4"
      }
    },
    {
      "cell_type": "code",
      "source": [
        "episode_results = np.array([play(env, agent) for _ in range(100)])\n",
        "\n",
        "plt.plot(episode_results)\n",
        "plt.title(\"Cumulative reward for each episode\")\n",
        "plt.ylabel(\"Cumulative reward\")\n",
        "plt.xlabel(\"episode\")\n",
        "plt.show()"
      ],
      "metadata": {
        "colab": {
          "base_uri": "https://localhost:8080/",
          "height": 472
        },
        "id": "RZrCKywQi6CE",
        "outputId": "52527d28-c1f2-447f-d3a8-dda412c553fa"
      },
      "execution_count": 69,
      "outputs": [
        {
          "output_type": "display_data",
          "data": {
            "text/plain": [
              "<Figure size 640x480 with 1 Axes>"
            ],
            "image/png": "[encoded data removed]"
          },
          "metadata": {}
        }
      ]
    },
    {
      "cell_type": "markdown",
      "source": [
        "Print the average reward over the 100 episodes."
      ],
      "metadata": {
        "id": "XndSYH7wlvn7"
      }
    },
    {
      "cell_type": "code",
      "source": [
        "print(\"Average cumulative reward:\", episode_results.mean())\n",
        "print(\"Is my agent good enough?\", episode_results.mean() > 195)"
      ],
      "metadata": {
        "colab": {
          "base_uri": "https://localhost:8080/"
        },
        "id": "pOiOp9OYlo5Y",
        "outputId": "69c938a0-b82f-4abb-f5f8-2533b1a202dd"
      },
      "execution_count": 70,
      "outputs": [
        {
          "output_type": "stream",
          "name": "stdout",
          "text": [
            "Average cumulative reward: 494.44\n",
            "Is my agent good enough? True\n"
          ]
        }
      ]
    },
    {
      "cell_type": "markdown",
      "source": [],
      "metadata": {
        "id": "UexbnEOqk6ES"
      }
    },
    {
      "cell_type": "markdown",
      "source": [
        "## Task 3: Render one episode played by the agent"
      ],
      "metadata": {
        "id": "Yg0DCT38lFA6"
      }
    },
    {
      "cell_type": "markdown",
      "source": [
        "Plug your agent to the code below to obtain rendered result."
      ],
      "metadata": {
        "id": "vx1awMr9lc_w"
      }
    },
    {
      "cell_type": "code",
      "source": [
        "env = RecordVideo(gym.make(\"CartPole-v1\"), \"./video\")\n",
        "play(env, agent)\n",
        "env.close()\n",
        "show_video()"
      ],
      "metadata": {
        "colab": {
          "base_uri": "https://localhost:8080/",
          "height": 494
        },
        "id": "LYyavfbIa47D",
        "outputId": "cc3b8001-493f-4fae-ee63-42b482d21fc7"
      },
      "execution_count": 83,
      "outputs": [
        {
          "output_type": "stream",
          "name": "stderr",
          "text": [
            "/usr/local/lib/python3.11/dist-packages/gym/utils/passive_env_checker.py:241: DeprecationWarning: `np.bool8` is a deprecated alias for `np.bool_`.  (Deprecated NumPy 1.24)\n",
            "  if not isinstance(terminated, (bool, np.bool8)):\n"
          ]
        },
        {
          "output_type": "stream",
          "name": "stdout",
          "text": [
            "Total reward: 500.0, Episode steps: 500\n"
          ]
        },
        {
          "output_type": "display_data",
          "data": {
            "text/plain": [
              "<IPython.core.display.HTML object>"
            ],
            "text/html": [
              "<video alt=\"test\" autoplay\n",
              "                loop controls style=\"height: 400px;\">\n",
              "                <source src=\"data:video/mp4;base64,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\" type=\"video/mp4\" />\n",
              "             </video>"
            ]
          },
          "metadata": {}
        }
      ]
    }
  ]
}